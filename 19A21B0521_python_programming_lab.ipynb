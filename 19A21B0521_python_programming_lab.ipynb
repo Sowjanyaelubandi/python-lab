{
  "nbformat": 4,
  "nbformat_minor": 0,
  "metadata": {
    "colab": {
      "name": "19A21B0521- python programming lab",
      "provenance": [],
      "collapsed_sections": [],
      "authorship_tag": "ABX9TyOGjA2ckqKnBEFMj/by/1aU",
      "include_colab_link": true
    },
    "kernelspec": {
      "name": "python3",
      "display_name": "Python 3"
    },
    "language_info": {
      "name": "python"
    }
  },
  "cells": [
    {
      "cell_type": "markdown",
      "metadata": {
        "id": "view-in-github",
        "colab_type": "text"
      },
      "source": [
        "<a href=\"https://colab.research.google.com/github/Sowjanyaelubandi/python-lab/blob/main/19A21B0521_python_programming_lab.ipynb\" target=\"_parent\"><img src=\"https://colab.research.google.com/assets/colab-badge.svg\" alt=\"Open In Colab\"/></a>"
      ]
    },
    {
      "cell_type": "markdown",
      "metadata": {
        "id": "Swom7h1IAIc0"
      },
      "source": [
        "Name:E.D.S.SOWJANYA\n",
        " \n",
        "Reg no:19A21B0521 \n",
        " \n",
        "Sec:cse-c\n",
        " \n",
        "Exercise-1 Basics\n",
        "a)running instructions in interactive interpreter and a python script"
      ]
    },
    {
      "cell_type": "code",
      "metadata": {
        "id": "NicBHQLQA-DK",
        "colab": {
          "base_uri": "https://localhost:8080/"
        },
        "outputId": "379d3d8c-b747-422f-bb74-9c78c253d2ca"
      },
      "source": [
        "ab=20\n",
        "print(ab)"
      ],
      "execution_count": null,
      "outputs": [
        {
          "output_type": "stream",
          "text": [
            "20\n"
          ],
          "name": "stdout"
        }
      ]
    },
    {
      "cell_type": "markdown",
      "metadata": {
        "id": "YM6Pxwf5LkG0"
      },
      "source": [
        " b)write a program that puposefully raise indentation error and correct it"
      ]
    },
    {
      "cell_type": "code",
      "metadata": {
        "colab": {
          "base_uri": "https://localhost:8080/"
        },
        "id": "4k4Y2FQtL0ke",
        "outputId": "38642703-d8f1-482c-dc8f-0fe7470f0f26"
      },
      "source": [
        "if True:\n",
        "    print(\"True\")\n",
        "else:\n",
        "    print(\"False\")"
      ],
      "execution_count": null,
      "outputs": [
        {
          "output_type": "stream",
          "text": [
            "True\n"
          ],
          "name": "stdout"
        }
      ]
    },
    {
      "cell_type": "markdown",
      "metadata": {
        "id": "HcM5JoBBAkdP"
      },
      "source": [
        "Exercise-2 :operations                  \n",
        "a)write a program to compute distance between two points taking input from the user(pythagorean theorem)"
      ]
    },
    {
      "cell_type": "markdown",
      "metadata": {
        "id": "Yilp2dXSHvw4"
      },
      "source": [
        ""
      ]
    },
    {
      "cell_type": "code",
      "metadata": {
        "colab": {
          "base_uri": "https://localhost:8080/"
        },
        "id": "NCiAazezCbT_",
        "outputId": "d3143d0a-b2c9-4e4f-dd60-5e7d36752841"
      },
      "source": [
        " \n",
        "import math\n",
        "x1=int(input(\"enter x1 value:\"))\n",
        "x2=int(input(\"enter x2 value:\"))\n",
        "y1=int(input(\"enter y1 value:\"))\n",
        "y2=int(input(\"enter y2 value:\"))\n",
        "d=math.sqrt(((x2-x1)**2)+((y2-y1)**2))\n",
        "print(\"Distance of two points:\",d)\n",
        "print(\"Distance of two points:\",d,sep='\\t')\n",
        "print(\"Distance of two points(%d,%d) and (%d,%d) is %f\"%(x1,y1,x2,y2,d))\n",
        "print(\"Distance of two points({},{}) and ({},{}) is {}\".format(x1,y1,x2,y2,d))"
      ],
      "execution_count": null,
      "outputs": [
        {
          "output_type": "stream",
          "text": [
            "enter x1 value:34\n",
            "enter x2 value:23\n",
            "enter y1 value:45\n",
            "enter y2 value:65\n",
            "Distance of two points: 22.825424421026653\n",
            "Distance of two points:\t22.825424421026653\n",
            "Distance of two points(34,45) and (23,65) is 22.825424\n",
            "Distance of two points(34,45) and (23,65) is 22.825424421026653\n"
          ],
          "name": "stdout"
        }
      ]
    },
    {
      "cell_type": "markdown",
      "metadata": {
        "id": "8jTDf5ZmAbyH"
      },
      "source": [
        "b) write a program  add.py that takes 2numbers as command line arguments and prints its sum"
      ]
    },
    {
      "cell_type": "code",
      "metadata": {
        "colab": {
          "base_uri": "https://localhost:8080/",
          "height": 166
        },
        "id": "Qhjl7WInIBC2",
        "outputId": "0b04ec1f-8427-4d2f-8b62-cb9ec64c3ec7"
      },
      "source": [
        "import sys\n",
        " x=int(sys.argv[1])\n",
        " y=int(sys.argv[2])\n",
        " \n",
        " \n",
        "sum=x+y\n",
        "   print(\"The addition is:\",sum)"
      ],
      "execution_count": null,
      "outputs": [
        {
          "output_type": "error",
          "ename": "IndentationError",
          "evalue": "ignored",
          "traceback": [
            "\u001b[0;36m  File \u001b[0;32m\"<ipython-input-19-4ae3778d9ead>\"\u001b[0;36m, line \u001b[0;32m2\u001b[0m\n\u001b[0;31m    x=int(sys.argv[1])\u001b[0m\n\u001b[0m    ^\u001b[0m\n\u001b[0;31mIndentationError\u001b[0m\u001b[0;31m:\u001b[0m unexpected indent\n"
          ]
        }
      ]
    },
    {
      "cell_type": "markdown",
      "metadata": {
        "id": "p8SmfX7pQCaP"
      },
      "source": [
        " Exercise-3: control flows                 \n",
        "a) write a program for checking whether  the given number is even or odd"
      ]
    },
    {
      "cell_type": "code",
      "metadata": {
        "colab": {
          "base_uri": "https://localhost:8080/"
        },
        "id": "vc10GlIIQWja",
        "outputId": "173a8eb6-a33c-4e29-d953-1b917bffa542"
      },
      "source": [
        "n=int(input(\"enter a number\"))\n",
        "if n%2==0:\n",
        "  print(\"given number is even\")\n",
        "else:\n",
        "  print(\"given numner is odd\")"
      ],
      "execution_count": null,
      "outputs": [
        {
          "output_type": "stream",
          "text": [
            "enter a number2\n",
            "given number is even\n"
          ],
          "name": "stdout"
        }
      ]
    },
    {
      "cell_type": "markdown",
      "metadata": {
        "id": "NnnTvwtAPwXG"
      },
      "source": [
        "b)using a for loop,write a program that prints out the decimal equivalents 1/2,1/3,1/4.....1/10"
      ]
    },
    {
      "cell_type": "code",
      "metadata": {
        "colab": {
          "base_uri": "https://localhost:8080/"
        },
        "id": "rKtDp1LSKxqr",
        "outputId": "b14c77d4-4fac-4b50-8a4d-e0e6666e56f4"
      },
      "source": [
        "#prints out the decimal equivalents 1/2,1/3,1/4.....1/10\n",
        "n=int(input(\"enter number\"))\n",
        "for i in range(2,n):\n",
        "  de=1/i\n",
        "  print(\"1/\"+str(i)+\"=\",de)"
      ],
      "execution_count": null,
      "outputs": [
        {
          "output_type": "stream",
          "text": [
            "enter number15\n",
            "1/2= 0.5\n",
            "1/3= 0.3333333333333333\n",
            "1/4= 0.25\n",
            "1/5= 0.2\n",
            "1/6= 0.16666666666666666\n",
            "1/7= 0.14285714285714285\n",
            "1/8= 0.125\n",
            "1/9= 0.1111111111111111\n",
            "1/10= 0.1\n",
            "1/11= 0.09090909090909091\n",
            "1/12= 0.08333333333333333\n",
            "1/13= 0.07692307692307693\n",
            "1/14= 0.07142857142857142\n"
          ],
          "name": "stdout"
        }
      ]
    },
    {
      "cell_type": "markdown",
      "metadata": {
        "id": "AxoX9nu4zk9B"
      },
      "source": [
        " c)write a program using for loop that loops over a sequence.what is sequence"
      ]
    },
    {
      "cell_type": "code",
      "metadata": {
        "id": "A-FqeAv2z8UW",
        "colab": {
          "base_uri": "https://localhost:8080/"
        },
        "outputId": "d02aa2a3-edee-4c3c-c161-685dcaf58a20"
      },
      "source": [
        "arr=[4,\"abc\",-45,'C',10,5,True,5,10,6,\"xyz\"]\n",
        "print(\"Given Array\",arr)\n",
        "for x in arr:\n",
        "  print(x)"
      ],
      "execution_count": null,
      "outputs": [
        {
          "output_type": "stream",
          "text": [
            "Given Array [4, 'abc', -45, 'C', 10, 5, True, 5, 10, 6, 'xyz']\n",
            "4\n",
            "abc\n",
            "-45\n",
            "C\n",
            "10\n",
            "5\n",
            "True\n",
            "5\n",
            "10\n",
            "6\n",
            "xyz\n"
          ],
          "name": "stdout"
        }
      ]
    },
    {
      "cell_type": "markdown",
      "metadata": {
        "id": "XKUHGWFUSSf5"
      },
      "source": [
        "d) write a program using a while loop that asks the user for a number,and prints a countdown from that number to zero"
      ]
    },
    {
      "cell_type": "code",
      "metadata": {
        "colab": {
          "base_uri": "https://localhost:8080/"
        },
        "id": "BNY6cZKYSmmY",
        "outputId": "a6904da3-aef7-414e-f0e0-48e77644c156"
      },
      "source": [
        "n=int(input(\"enter value of n:\"))\n",
        "while n>=0:\n",
        "  print(n)\n",
        "  n-=1"
      ],
      "execution_count": null,
      "outputs": [
        {
          "output_type": "stream",
          "text": [
            "enter value of n:5\n",
            "5\n",
            "4\n",
            "3\n",
            "2\n",
            "1\n",
            "0\n"
          ],
          "name": "stdout"
        }
      ]
    },
    {
      "cell_type": "markdown",
      "metadata": {
        "id": "K6rFsxpsz9LJ"
      },
      "source": [
        " Exercise-4 control flow continued      \n",
        "a)find the sum of all the primes below two million."
      ]
    },
    {
      "cell_type": "code",
      "metadata": {
        "id": "NWW88qme1Dn_",
        "colab": {
          "base_uri": "https://localhost:8080/",
          "height": 391
        },
        "outputId": "f9c34c90-4cf0-4786-8798-be726bb2a26a"
      },
      "source": [
        "n=int(input(\"enter an ending number:\"))\n",
        "st=\"\"\n",
        "Sum=0\n",
        "for i in range(2,n):\n",
        "  state=True\n",
        "  for j in range(2,i):\n",
        "      if (i%j)==0:\n",
        "        State=False\n",
        "        break;\n",
        "  if state==True:\n",
        "     st+=\"\"+str(i)\n",
        "     sum+=i\n",
        " \n",
        "print(\"prime numbers:\")\n",
        "print(st)\n",
        "print(\"sum of the prime numbers:\",sum)"
      ],
      "execution_count": null,
      "outputs": [
        {
          "output_type": "stream",
          "text": [
            "enter an ending number:10\n"
          ],
          "name": "stdout"
        },
        {
          "output_type": "error",
          "ename": "TypeError",
          "evalue": "ignored",
          "traceback": [
            "\u001b[0;31m---------------------------------------------------------------------------\u001b[0m",
            "\u001b[0;31mTypeError\u001b[0m                                 Traceback (most recent call last)",
            "\u001b[0;32m<ipython-input-36-9dedb4785f71>\u001b[0m in \u001b[0;36m<module>\u001b[0;34m()\u001b[0m\n\u001b[1;32m     10\u001b[0m   \u001b[0;32mif\u001b[0m \u001b[0mstate\u001b[0m\u001b[0;34m==\u001b[0m\u001b[0;32mTrue\u001b[0m\u001b[0;34m:\u001b[0m\u001b[0;34m\u001b[0m\u001b[0;34m\u001b[0m\u001b[0m\n\u001b[1;32m     11\u001b[0m      \u001b[0mst\u001b[0m\u001b[0;34m+=\u001b[0m\u001b[0;34m\"\"\u001b[0m\u001b[0;34m+\u001b[0m\u001b[0mstr\u001b[0m\u001b[0;34m(\u001b[0m\u001b[0mi\u001b[0m\u001b[0;34m)\u001b[0m\u001b[0;34m\u001b[0m\u001b[0;34m\u001b[0m\u001b[0m\n\u001b[0;32m---> 12\u001b[0;31m      \u001b[0msum\u001b[0m\u001b[0;34m+=\u001b[0m\u001b[0mi\u001b[0m\u001b[0;34m\u001b[0m\u001b[0;34m\u001b[0m\u001b[0m\n\u001b[0m\u001b[1;32m     13\u001b[0m \u001b[0;34m\u001b[0m\u001b[0m\n\u001b[1;32m     14\u001b[0m \u001b[0mprint\u001b[0m\u001b[0;34m(\u001b[0m\u001b[0;34m\"prime numbers:\"\u001b[0m\u001b[0;34m)\u001b[0m\u001b[0;34m\u001b[0m\u001b[0;34m\u001b[0m\u001b[0m\n",
            "\u001b[0;31mTypeError\u001b[0m: unsupported operand type(s) for +=: 'builtin_function_or_method' and 'int'"
          ]
        }
      ]
    },
    {
      "cell_type": "markdown",
      "metadata": {
        "id": "Oa6FAP13ZwQo"
      },
      "source": [
        "b)Each new term in the fibonacci sequence is generated by adding the previous two terms.By starting with 1 and 2,the first 10 terms will be 1,2,3,5,8,13,21,34,55,89...."
      ]
    },
    {
      "cell_type": "code",
      "metadata": {
        "colab": {
          "base_uri": "https://localhost:8080/"
        },
        "id": "-7KVo_hJ6aKd",
        "outputId": "41692cbb-0055-4486-f119-b9576431bc34"
      },
      "source": [
        "n=int(input(\"enter value of n:\"))\n",
        "a=0\n",
        "b=1\n",
        "c=a+b\n",
        "while c<n:\n",
        "  print(c,end='')\n",
        "  a=b\n",
        "  b=c\n",
        "  c=a+b"
      ],
      "execution_count": null,
      "outputs": [
        {
          "output_type": "stream",
          "text": [
            "enter value of n:100\n",
            "123581321345589"
          ],
          "name": "stdout"
        }
      ]
    },
    {
      "cell_type": "markdown",
      "metadata": {
        "id": "wGLnVG1F23qB"
      },
      "source": [
        " c) By considering the terms in the fibonacci sequence whose values do not exceed four million, find the sum of the even valued terms."
      ]
    },
    {
      "cell_type": "code",
      "metadata": {
        "colab": {
          "base_uri": "https://localhost:8080/",
          "height": 183
        },
        "id": "VrLcsExra_7O",
        "outputId": "3efebfe5-5eaa-48e1-92e9-ff8c4ab500a0"
      },
      "source": [
        "n=int(input(\"enter value of n:\"))\n",
        " \n",
        "a=0\n",
        "b=1\n",
        "c=a+b\n",
        "sum=0\n",
        " print(\"Even numbers in Fibonacci series:\",end=\")\n",
        " while c<=n:\n",
        "   if c%2=0:\n",
        "    print(c,end='')\n",
        "    sum+=c\n",
        "  a=b\n",
        "  b=c\n",
        "  c=a+b\n",
        "print(\"sum of the fibonacci series is:\",sum)"
      ],
      "execution_count": null,
      "outputs": [
        {
          "output_type": "error",
          "ename": "IndentationError",
          "evalue": "ignored",
          "traceback": [
            "\u001b[0;36m  File \u001b[0;32m\"<ipython-input-53-eca6854c3cf4>\"\u001b[0;36m, line \u001b[0;32m7\u001b[0m\n\u001b[0;31m    print(\"Even numbers in Fibonacci series:\",end=\")\u001b[0m\n\u001b[0m    ^\u001b[0m\n\u001b[0;31mIndentationError\u001b[0m\u001b[0;31m:\u001b[0m unexpected indent\n"
          ]
        }
      ]
    },
    {
      "cell_type": "markdown",
      "metadata": {
        "id": "Xtnh1KfT3c-q"
      },
      "source": [
        " Exercise-5\n",
        "a)write a program to count the number of characters in the string and store them in a dictionary data structure"
      ]
    },
    {
      "cell_type": "code",
      "metadata": {
        "id": "Wl_p1GG834gE",
        "colab": {
          "base_uri": "https://localhost:8080/"
        },
        "outputId": "98bc24f5-45bd-4994-c039-03f0c91c3b37"
      },
      "source": [
        "name=input(\"enter a name\")\n",
        "dic={}\n",
        "for ch in name:\n",
        "  keys=dic.keys()\n",
        "  if (ch in keys):\n",
        "    dic[ch]=dic[ch]+1\n",
        "  else:\n",
        "      dic[ch]=1\n",
        "  print(\"dictionary is:\",dic)\n",
        "                \n"
      ],
      "execution_count": null,
      "outputs": [
        {
          "output_type": "stream",
          "text": [
            "enter a nameSwarnandhra\n",
            "dictionary is: {'S': 1}\n",
            "dictionary is: {'S': 1, 'w': 1}\n",
            "dictionary is: {'S': 1, 'w': 1, 'a': 1}\n",
            "dictionary is: {'S': 1, 'w': 1, 'a': 1, 'r': 1}\n",
            "dictionary is: {'S': 1, 'w': 1, 'a': 1, 'r': 1, 'n': 1}\n",
            "dictionary is: {'S': 1, 'w': 1, 'a': 2, 'r': 1, 'n': 1}\n",
            "dictionary is: {'S': 1, 'w': 1, 'a': 2, 'r': 1, 'n': 2}\n",
            "dictionary is: {'S': 1, 'w': 1, 'a': 2, 'r': 1, 'n': 2, 'd': 1}\n",
            "dictionary is: {'S': 1, 'w': 1, 'a': 2, 'r': 1, 'n': 2, 'd': 1, 'h': 1}\n",
            "dictionary is: {'S': 1, 'w': 1, 'a': 2, 'r': 2, 'n': 2, 'd': 1, 'h': 1}\n",
            "dictionary is: {'S': 1, 'w': 1, 'a': 3, 'r': 2, 'n': 2, 'd': 1, 'h': 1}\n"
          ],
          "name": "stdout"
        }
      ]
    },
    {
      "cell_type": "markdown",
      "metadata": {
        "id": "tpD6LeLq35cm"
      },
      "source": [
        " b)write a program to use split and join methods in the  string and trace a birthday with a string in a dictionary data structure"
      ]
    },
    {
      "cell_type": "code",
      "metadata": {
        "id": "g4z2I3q-4UB4",
        "colab": {
          "base_uri": "https://localhost:8080/"
        },
        "outputId": "9a7e7d88-44e3-439a-a509-4f192e941610"
      },
      "source": [
        "dob={\"pranavi\":\"07-dec-2001\",\"kk\":\"22-10-2000\"}\n",
        "name=input(\"which person dob you want:\")\n",
        "l=name.split()\n",
        "birth=\"\"\n",
        "for i in l:\n",
        "  if i in dob.keys():\n",
        "    person=i\n",
        "print(\"\".join([person,\"Birthday is\",dob[person]]))"
      ],
      "execution_count": null,
      "outputs": [
        {
          "output_type": "stream",
          "text": [
            "which person dob you want:pranavi\n",
            "pranaviBirthday is07-dec-2001\n"
          ],
          "name": "stdout"
        }
      ]
    },
    {
      "cell_type": "markdown",
      "metadata": {
        "id": "vOTFYXfNSTrc"
      },
      "source": [
        " Exercise-6:continued    \n",
        "\n",
        "a)write a program combine list that combines  this list into the dictionary"
      ]
    },
    {
      "cell_type": "code",
      "metadata": {
        "colab": {
          "base_uri": "https://localhost:8080/"
        },
        "id": "fxCcE6IASkzt",
        "outputId": "d5e874fa-ce80-4b6b-c195-5b347604f074"
      },
      "source": [
        "subj=[\"python\",\"daa\",\"dbms\",\"p&s\",\"se\"]\n",
        "marks=[85,90,89,92,92]\n",
        "print(\"given lists are:\")\n",
        "print(\"Subject Name:\",subj)\n",
        "print(\"marks values:\",marks)\n",
        "dic=dict(zip(subj,marks))\n",
        "print(\"dictionary:\",dic)"
      ],
      "execution_count": null,
      "outputs": [
        {
          "output_type": "stream",
          "text": [
            "given lists are:\n",
            "Subject Name: ['python', 'daa', 'dbms', 'p&s', 'se']\n",
            "marks values: [85, 90, 89, 92, 92]\n",
            "dictionary: {'python': 85, 'daa': 90, 'dbms': 89, 'p&s': 92, 'se': 92}\n"
          ],
          "name": "stdout"
        }
      ]
    },
    {
      "cell_type": "markdown",
      "metadata": {
        "id": "8qnSd9VJ8qMD"
      },
      "source": [
        " b)write a program to count frequency of characters in a given file.can you use character frequency to tell whether the given file is a python program file,c program file or text file?"
      ]
    },
    {
      "cell_type": "code",
      "metadata": {
        "colab": {
          "base_uri": "https://localhost:8080/",
          "height": 391
        },
        "id": "kHdp_Elj9S2t",
        "outputId": "7a33a6fa-b4a9-4146-99e4-2b6bb512e761"
      },
      "source": [
        "filetypes=['.py','.c','.txt']\n",
        "fn=input(\"enter the file name:\")\n",
        "f=open(fn,\"r\")\n",
        "count=dict()\n",
        " \n",
        "print(\"Given file is\",end=\"\")\n",
        "for ft in filetypes:\n",
        " if (ft in fn):\n",
        "  if(ft=='.py'):\n",
        "    print(\"python file\")\n",
        "  elif(ft=='.c'):\n",
        "    print(\"c file\")\n",
        "  elif(ft=='.txt'):\n",
        "    print(\"text file\")\n",
        "for line in f:\n",
        " for ch in line:\n",
        "   if ch in count:\n",
        "     count[ch]=count[ch]+1\n",
        "   else:\n",
        "     count[ch]=1\n",
        "print(count)\n",
        "f.close()"
      ],
      "execution_count": null,
      "outputs": [
        {
          "output_type": "stream",
          "text": [
            "enter the file name:.c\n"
          ],
          "name": "stdout"
        },
        {
          "output_type": "error",
          "ename": "FileNotFoundError",
          "evalue": "ignored",
          "traceback": [
            "\u001b[0;31m---------------------------------------------------------------------------\u001b[0m",
            "\u001b[0;31mFileNotFoundError\u001b[0m                         Traceback (most recent call last)",
            "\u001b[0;32m<ipython-input-18-cf80c1b70b3c>\u001b[0m in \u001b[0;36m<module>\u001b[0;34m()\u001b[0m\n\u001b[1;32m      1\u001b[0m \u001b[0mfiletypes\u001b[0m\u001b[0;34m=\u001b[0m\u001b[0;34m[\u001b[0m\u001b[0;34m'.py'\u001b[0m\u001b[0;34m,\u001b[0m\u001b[0;34m'.c'\u001b[0m\u001b[0;34m,\u001b[0m\u001b[0;34m'.txt'\u001b[0m\u001b[0;34m]\u001b[0m\u001b[0;34m\u001b[0m\u001b[0;34m\u001b[0m\u001b[0m\n\u001b[1;32m      2\u001b[0m \u001b[0mfn\u001b[0m\u001b[0;34m=\u001b[0m\u001b[0minput\u001b[0m\u001b[0;34m(\u001b[0m\u001b[0;34m\"enter the file name:\"\u001b[0m\u001b[0;34m)\u001b[0m\u001b[0;34m\u001b[0m\u001b[0;34m\u001b[0m\u001b[0m\n\u001b[0;32m----> 3\u001b[0;31m \u001b[0mf\u001b[0m\u001b[0;34m=\u001b[0m\u001b[0mopen\u001b[0m\u001b[0;34m(\u001b[0m\u001b[0mfn\u001b[0m\u001b[0;34m,\u001b[0m\u001b[0;34m\"r\"\u001b[0m\u001b[0;34m)\u001b[0m\u001b[0;34m\u001b[0m\u001b[0;34m\u001b[0m\u001b[0m\n\u001b[0m\u001b[1;32m      4\u001b[0m \u001b[0mcount\u001b[0m\u001b[0;34m=\u001b[0m\u001b[0mdict\u001b[0m\u001b[0;34m(\u001b[0m\u001b[0;34m)\u001b[0m\u001b[0;34m\u001b[0m\u001b[0;34m\u001b[0m\u001b[0m\n\u001b[1;32m      5\u001b[0m \u001b[0;34m\u001b[0m\u001b[0m\n",
            "\u001b[0;31mFileNotFoundError\u001b[0m: [Errno 2] No such file or directory: '.c'"
          ]
        }
      ]
    },
    {
      "cell_type": "markdown",
      "metadata": {
        "id": "gRHlqRpYWtsL"
      },
      "source": [
        " Exercise-7: Files\n",
        "a)write a program to print each line of the file in a reverse order"
      ]
    },
    {
      "cell_type": "code",
      "metadata": {
        "colab": {
          "base_uri": "https://localhost:8080/",
          "height": 408
        },
        "id": "3kDViSYgW_jU",
        "outputId": "ef6cafb3-8a0c-4029-9c55-ecd21e901c53"
      },
      "source": [
        "#write a program to print each line  of file in reverse order \n",
        "obj=open(\"abc.txt\",\"r\")\n",
        "if obj:\n",
        "  st=obj.read()\n",
        "  print(\"file content is:\\n\",st)\n",
        "obj.close()\n",
        "print()\n",
        "lines=st.split('\\n')\n",
        "for ln in lines:\n",
        "  i=len(ln)-1\n",
        "  while (i>=0):\n",
        "    print(\"ln[i],end=\")\n",
        "    i=i-l\n",
        "print()"
      ],
      "execution_count": null,
      "outputs": [
        {
          "output_type": "error",
          "ename": "FileNotFoundError",
          "evalue": "ignored",
          "traceback": [
            "\u001b[0;31m---------------------------------------------------------------------------\u001b[0m",
            "\u001b[0;31mFileNotFoundError\u001b[0m                         Traceback (most recent call last)",
            "\u001b[0;32m<ipython-input-20-6e2f9a11acb2>\u001b[0m in \u001b[0;36m<module>\u001b[0;34m()\u001b[0m\n\u001b[1;32m      1\u001b[0m \u001b[0;31m#write a program to print each line  of file in reverse order\u001b[0m\u001b[0;34m\u001b[0m\u001b[0;34m\u001b[0m\u001b[0;34m\u001b[0m\u001b[0m\n\u001b[0;32m----> 2\u001b[0;31m \u001b[0mobj\u001b[0m\u001b[0;34m=\u001b[0m\u001b[0mopen\u001b[0m\u001b[0;34m(\u001b[0m\u001b[0;34m\"abc.txt\"\u001b[0m\u001b[0;34m,\u001b[0m\u001b[0;34m\"r\"\u001b[0m\u001b[0;34m)\u001b[0m\u001b[0;34m\u001b[0m\u001b[0;34m\u001b[0m\u001b[0m\n\u001b[0m\u001b[1;32m      3\u001b[0m \u001b[0;32mif\u001b[0m \u001b[0mobj\u001b[0m\u001b[0;34m:\u001b[0m\u001b[0;34m\u001b[0m\u001b[0;34m\u001b[0m\u001b[0m\n\u001b[1;32m      4\u001b[0m   \u001b[0mst\u001b[0m\u001b[0;34m=\u001b[0m\u001b[0mobj\u001b[0m\u001b[0;34m.\u001b[0m\u001b[0mread\u001b[0m\u001b[0;34m(\u001b[0m\u001b[0;34m)\u001b[0m\u001b[0;34m\u001b[0m\u001b[0;34m\u001b[0m\u001b[0m\n\u001b[1;32m      5\u001b[0m   \u001b[0mprint\u001b[0m\u001b[0;34m(\u001b[0m\u001b[0;34m\"file content is:\\n\"\u001b[0m\u001b[0;34m,\u001b[0m\u001b[0mst\u001b[0m\u001b[0;34m)\u001b[0m\u001b[0;34m\u001b[0m\u001b[0;34m\u001b[0m\u001b[0m\n",
            "\u001b[0;31mFileNotFoundError\u001b[0m: [Errno 2] No such file or directory: 'abc.txt'"
          ]
        }
      ]
    },
    {
      "cell_type": "markdown",
      "metadata": {
        "id": "OS35pDUjZhQI"
      },
      "source": [
        "b)write a program to compute the number of characters,words and lines in a file"
      ]
    },
    {
      "cell_type": "code",
      "metadata": {
        "colab": {
          "base_uri": "https://localhost:8080/",
          "height": 339
        },
        "id": "pVV41k8fZtMR",
        "outputId": "9d7456ee-b542-469f-fd8b-d0827b7fa2f1"
      },
      "source": [
        "nc=nw=nl=0\n",
        "file=open(\"abc.txt\",\"r\")\n",
        "nc=nw=nl=0\n",
        "print(\"file content:\\n\")\n",
        "for line in file:\n",
        " ln=line.strip(\"\\n\")\n",
        " print(ln)\n",
        " words=ln.split()\n",
        " nl+=1\n",
        " nw+=len(words)\n",
        " nc+=len(line)\n",
        "file.close()\n",
        " \n",
        "print(\"\\n No.of lines:\",nl,\"words:\",nw,\"characters:\",nc)"
      ],
      "execution_count": null,
      "outputs": [
        {
          "output_type": "error",
          "ename": "FileNotFoundError",
          "evalue": "ignored",
          "traceback": [
            "\u001b[0;31m---------------------------------------------------------------------------\u001b[0m",
            "\u001b[0;31mFileNotFoundError\u001b[0m                         Traceback (most recent call last)",
            "\u001b[0;32m<ipython-input-28-1b4abb32071e>\u001b[0m in \u001b[0;36m<module>\u001b[0;34m()\u001b[0m\n\u001b[1;32m      1\u001b[0m \u001b[0mnc\u001b[0m\u001b[0;34m=\u001b[0m\u001b[0mnw\u001b[0m\u001b[0;34m=\u001b[0m\u001b[0mnl\u001b[0m\u001b[0;34m=\u001b[0m\u001b[0;36m0\u001b[0m\u001b[0;34m\u001b[0m\u001b[0;34m\u001b[0m\u001b[0m\n\u001b[0;32m----> 2\u001b[0;31m \u001b[0mfile\u001b[0m\u001b[0;34m=\u001b[0m\u001b[0mopen\u001b[0m\u001b[0;34m(\u001b[0m\u001b[0;34m\"os.txt\"\u001b[0m\u001b[0;34m,\u001b[0m\u001b[0;34m\"r\"\u001b[0m\u001b[0;34m)\u001b[0m\u001b[0;34m\u001b[0m\u001b[0;34m\u001b[0m\u001b[0m\n\u001b[0m\u001b[1;32m      3\u001b[0m \u001b[0mnc\u001b[0m\u001b[0;34m=\u001b[0m\u001b[0mnw\u001b[0m\u001b[0;34m=\u001b[0m\u001b[0mnl\u001b[0m\u001b[0;34m=\u001b[0m\u001b[0;36m0\u001b[0m\u001b[0;34m\u001b[0m\u001b[0;34m\u001b[0m\u001b[0m\n\u001b[1;32m      4\u001b[0m \u001b[0mprint\u001b[0m\u001b[0;34m(\u001b[0m\u001b[0;34m\"file content:\\n\"\u001b[0m\u001b[0;34m)\u001b[0m\u001b[0;34m\u001b[0m\u001b[0;34m\u001b[0m\u001b[0m\n\u001b[1;32m      5\u001b[0m \u001b[0;32mfor\u001b[0m \u001b[0mline\u001b[0m \u001b[0;32min\u001b[0m \u001b[0mfile\u001b[0m\u001b[0;34m:\u001b[0m\u001b[0;34m\u001b[0m\u001b[0;34m\u001b[0m\u001b[0m\n",
            "\u001b[0;31mFileNotFoundError\u001b[0m: [Errno 2] No such file or directory: 'os.txt'"
          ]
        }
      ]
    },
    {
      "cell_type": "markdown",
      "metadata": {
        "id": "bJQ_IywKcbco"
      },
      "source": [
        " Exercise-8: functions    \n",
        "a) write a function ball that collide that takes two balls as parameters and computes if they are colliding your function should return a boolean representing whether or not the balls are colliding"
      ]
    },
    {
      "cell_type": "code",
      "metadata": {
        "id": "hc_4qh7E6un5",
        "colab": {
          "base_uri": "https://localhost:8080/"
        },
        "outputId": "a5a4ea62-3e40-4ee3-a994-9ae3c8d1f1e3"
      },
      "source": [
        "import math\n",
        "def collide(ball_tup1,ball_tup2):\n",
        "  x1,y1,r1=ball_tup1\n",
        "  x2,y2,r2=ball_tup2\n",
        "  print(\"Ball-01:\",ball_tup1)\n",
        "  print(\"Ball-02:\",ball_tup2)\n",
        "  d=math.sqrt((x2-x1)**2+(y2-y1)**2)\n",
        "  print(\"centroid distance of two balls:\",d)\n",
        "  print(\"sum of radius Ball-01&Ball-02 is:{}+{}={}\".format(r1,r2,r1+r2))\n",
        "  if d<=r1+r2:\n",
        "    return True\n",
        "  else:\n",
        "    return False\n",
        "b1=(-2,-4,3)\n",
        "b2=(4,6,3)\n",
        "if collide(b1,b2):\n",
        "  print(\"Balls are collide....!\")\n",
        "else:\n",
        "  print(\"Balls are not collide....!\")"
      ],
      "execution_count": null,
      "outputs": [
        {
          "output_type": "stream",
          "text": [
            "Ball-01: (-2, -4, 3)\n",
            "Ball-02: (4, 6, 3)\n",
            "centroid distance of two balls: 11.661903789690601\n",
            "sum of radius Ball-01&Ball-02 is:3+3=6\n",
            "Balls are not collide....!\n"
          ],
          "name": "stdout"
        }
      ]
    },
    {
      "cell_type": "markdown",
      "metadata": {
        "id": "G4VPazAwo5CZ"
      },
      "source": [
        " b)Find mean,median,mode for given set of  numbers in a list"
      ]
    },
    {
      "cell_type": "code",
      "metadata": {
        "colab": {
          "base_uri": "https://localhost:8080/",
          "height": 376
        },
        "id": "QGs5oUzupLfp",
        "outputId": "4f57f47a-b3c0-4efa-a362-54709f8eb67f"
      },
      "source": [
        "def list_mean(num_list):\n",
        "  return sum(num_list)/len(num_list)\n",
        "def list_median(num_list):\n",
        "  num_list.sort()\n",
        "  n=len(num_list)\n",
        "  mid=n/2\n",
        "  if(n%2==1):\n",
        "    return num_list[mid]\n",
        "  else:\n",
        "    mid\n",
        "    return(num_list[mid-1]+num_list[mid])/2\n",
        "def list_mode(num_list):\n",
        "  num_list.sort()\n",
        "  temp=[]\n",
        "i=0\n",
        "while i<len(num_list):\n",
        "  temp.append(num_list.count(num_list[i]))\n",
        "  i+=1\n",
        "dic=dict(zip(num_list,temp))\n",
        "mode={k for (k,v) in dic.items()if v==max(temp)}\n",
        "return mode\n",
        "lst=[1,1,2,2,23,4,5,3]\n",
        "print(\"Given list is:\",lst)\n",
        "print(\"Mean of given list:\",list_mean(lst))\n",
        "print(\"Median of given list:\",list_median(lst))\n",
        "print(\"Mode  of given list:\",list_mode(lst))"
      ],
      "execution_count": null,
      "outputs": [
        {
          "output_type": "error",
          "ename": "NameError",
          "evalue": "ignored",
          "traceback": [
            "\u001b[0;31m---------------------------------------------------------------------------\u001b[0m",
            "\u001b[0;31mNameError\u001b[0m                                 Traceback (most recent call last)",
            "\u001b[0;32m<ipython-input-15-730658cb7eff>\u001b[0m in \u001b[0;36m<module>\u001b[0;34m()\u001b[0m\n\u001b[1;32m     14\u001b[0m   \u001b[0mtemp\u001b[0m\u001b[0;34m=\u001b[0m\u001b[0;34m[\u001b[0m\u001b[0;34m]\u001b[0m\u001b[0;34m\u001b[0m\u001b[0;34m\u001b[0m\u001b[0m\n\u001b[1;32m     15\u001b[0m \u001b[0mi\u001b[0m\u001b[0;34m=\u001b[0m\u001b[0;36m0\u001b[0m\u001b[0;34m\u001b[0m\u001b[0;34m\u001b[0m\u001b[0m\n\u001b[0;32m---> 16\u001b[0;31m \u001b[0;32mwhile\u001b[0m \u001b[0mi\u001b[0m\u001b[0;34m<\u001b[0m\u001b[0mlen\u001b[0m\u001b[0;34m(\u001b[0m\u001b[0mnum_list\u001b[0m\u001b[0;34m)\u001b[0m\u001b[0;34m:\u001b[0m\u001b[0;34m\u001b[0m\u001b[0;34m\u001b[0m\u001b[0m\n\u001b[0m\u001b[1;32m     17\u001b[0m   \u001b[0mtemp\u001b[0m\u001b[0;34m.\u001b[0m\u001b[0mappend\u001b[0m\u001b[0;34m(\u001b[0m\u001b[0mnum_list\u001b[0m\u001b[0;34m.\u001b[0m\u001b[0mcount\u001b[0m\u001b[0;34m(\u001b[0m\u001b[0mnum_list\u001b[0m\u001b[0;34m[\u001b[0m\u001b[0mi\u001b[0m\u001b[0;34m]\u001b[0m\u001b[0;34m)\u001b[0m\u001b[0;34m)\u001b[0m\u001b[0;34m\u001b[0m\u001b[0;34m\u001b[0m\u001b[0m\n\u001b[1;32m     18\u001b[0m   \u001b[0mi\u001b[0m\u001b[0;34m+=\u001b[0m\u001b[0;36m1\u001b[0m\u001b[0;34m\u001b[0m\u001b[0;34m\u001b[0m\u001b[0m\n",
            "\u001b[0;31mNameError\u001b[0m: name 'num_list' is not defined"
          ]
        }
      ]
    },
    {
      "cell_type": "markdown",
      "metadata": {
        "id": "cnqwx3FtxoaB"
      },
      "source": [
        " \n",
        "Exercise-9\n",
        "9a)write a function nearly equal to test whether two strings are nearly equal.two strings a and b are nearly equal when a can be generated by a single mutation on b\n",
        "In [10]:"
      ]
    },
    {
      "cell_type": "code",
      "metadata": {
        "colab": {
          "base_uri": "https://localhost:8080/"
        },
        "id": "_GkN-H4Cx6VH",
        "outputId": "17eadf45-a816-48ec-fab6-e346e3400eae"
      },
      "source": [
        " def nearly_eq(str1,str2):\n",
        "    count=0\n",
        "    i=j=0\n",
        "    while(i<len(str1)and j<len(str2)):\n",
        "        if(str1[i]!=str2[j]):\n",
        "            count+=1\n",
        "            if(len(str1)>len(str2)):\n",
        "                i+=1\n",
        "            elif(len(str1)==len(str2)):\n",
        "                pass\n",
        "            else:\n",
        "                i-=1\n",
        "        if(count>1):\n",
        "            return False\n",
        "        i+=1\n",
        "        j+=1\n",
        "    if(count<2):\n",
        "        return True\n",
        "s1=input(\"enter string1:  \")\n",
        "s2=input(\"enter string2:  \")\n",
        "bln=nearly_eq(s1,s2)\n",
        "if(bln):\n",
        "    print(\"Strings are nearly equal.\")\n",
        "else:\n",
        "    print(\"string are not equal\")"
      ],
      "execution_count": null,
      "outputs": [
        {
          "output_type": "stream",
          "text": [
            "enter string1:  Sowjanya\n",
            "enter string2:  Scet\n",
            "string are not equal\n"
          ],
          "name": "stdout"
        }
      ]
    },
    {
      "cell_type": "markdown",
      "metadata": {
        "id": "Q3c1gW0PyOaJ"
      },
      "source": [
        " 9b) write a function dup to find all duplicates in the list\n",
        "In [ ]:"
      ]
    },
    {
      "cell_type": "code",
      "metadata": {
        "colab": {
          "base_uri": "https://localhost:8080/"
        },
        "id": "BlT4P4F3yVl9",
        "outputId": "d00eb220-cfad-4eeb-caa9-0d54fb1a22e2"
      },
      "source": [
        " l=[1,2,3,4,5,2,3,4,7,9,5]\n",
        "l1=[]\n",
        "for i in l:\n",
        "    if i not in l1:\n",
        "        l1.append(i)\n",
        "    else:\n",
        "        print(i,end=' ')"
      ],
      "execution_count": null,
      "outputs": [
        {
          "output_type": "stream",
          "text": [
            "2 3 4 5 "
          ],
          "name": "stdout"
        }
      ]
    },
    {
      "cell_type": "markdown",
      "metadata": {
        "id": "kv-AmV6Fyc-7"
      },
      "source": [
        " 9c)Write a function unique to find all the unique elements of a list\n",
        "In [ ]:"
      ]
    },
    {
      "cell_type": "code",
      "metadata": {
        "colab": {
          "base_uri": "https://localhost:8080/"
        },
        "id": "1shVxCzqyjy_",
        "outputId": "93b73055-440e-4a39-a3e4-024a56a37606"
      },
      "source": [
        " import numpy as np\n",
        "def unique(list1):\n",
        "    x = np.array(list1)\n",
        "    print(np.unique(x))\n",
        "     \n",
        " \n",
        "list1 = [10, 20, 10, 30, 40, 40]\n",
        "print(\"the unique values from 1st list is\")\n",
        "unique(list1)\n",
        " \n",
        " \n",
        "list2 =[1, 2, 1, 1, 3, 4, 3, 3, 5]\n",
        "print(\"\\nthe unique values from 2nd list is\")\n",
        "unique(list2)"
      ],
      "execution_count": null,
      "outputs": [
        {
          "output_type": "stream",
          "text": [
            "the unique values from 1st list is\n",
            "[10 20 30 40]\n",
            "\n",
            "the unique values from 2nd list is\n",
            "[1 2 3 4 5]\n"
          ],
          "name": "stdout"
        }
      ]
    },
    {
      "cell_type": "markdown",
      "metadata": {
        "id": "8QbrI15DvmIp"
      },
      "source": [
        " Exercise-10                        \n",
        "a) write a function  cumulative  product  to compute cumulative product of a list of numbers"
      ]
    },
    {
      "cell_type": "code",
      "metadata": {
        "colab": {
          "base_uri": "https://localhost:8080/"
        },
        "id": "pu2PiTPwv-uT",
        "outputId": "d96872f2-edd9-4d1b-d53a-1ad609a84cd6"
      },
      "source": [
        "def cum_prod(numlist):\n",
        "  prod=1\n",
        "  temp=[]\n",
        "  for i in numlist:\n",
        "    prod*=i\n",
        "    temp.append(prod)\n",
        "  return temp\n",
        "lst=[1,2,4,5,3]\n",
        "print(\"Given list is:\",lst)\n",
        "print(\"Cumulative product list is:\",cum_prod(lst))"
      ],
      "execution_count": null,
      "outputs": [
        {
          "output_type": "stream",
          "text": [
            "Given list is: [1, 2, 4, 5, 3]\n",
            "Cumulative product list is: [1, 2, 8, 40, 120]\n"
          ],
          "name": "stdout"
        }
      ]
    },
    {
      "cell_type": "markdown",
      "metadata": {
        "id": "S4Of-kpQxJoU"
      },
      "source": [
        "b) write  a function revese to reverse a list .without  using reverse function."
      ]
    },
    {
      "cell_type": "code",
      "metadata": {
        "colab": {
          "base_uri": "https://localhost:8080/"
        },
        "id": "K8tpMsFMxXOd",
        "outputId": "6192be5a-3efe-48a1-b656-69d52affda15"
      },
      "source": [
        "def reverse_list(numlist):\n",
        "  i=0\n",
        "  j=len(numlist)-1\n",
        "  while(i<=j):\n",
        "    temp=numlist[i]\n",
        "    numlist[i]=numlist[j]\n",
        "    numlist[j]=temp\n",
        "    j-=1\n",
        "    i+=1\n",
        "  return numlist\n",
        "lst=[1,2,3,4]\n",
        "print(\"Given list is:\",lst)\n",
        "reverse_list(lst)\n",
        "print (\"Reverse of the given list is:\",lst)"
      ],
      "execution_count": null,
      "outputs": [
        {
          "output_type": "stream",
          "text": [
            "Given list is: [1, 2, 3, 4]\n",
            "Reverse of the given list is: [4, 3, 2, 1]\n"
          ],
          "name": "stdout"
        }
      ]
    },
    {
      "cell_type": "markdown",
      "metadata": {
        "id": "29qmFsV2yiYo"
      },
      "source": [
        "c)write function to compute gcd,lcm of two numbers.each function shouldn't  exceed one line."
      ]
    },
    {
      "cell_type": "code",
      "metadata": {
        "colab": {
          "base_uri": "https://localhost:8080/"
        },
        "id": "mFnar2Xsyxu-",
        "outputId": "5b47fa8d-e106-4ff3-e9d4-d0d6b6cd5308"
      },
      "source": [
        "gcd=lambda a,b:a if b==0 else gcd(a,a%b)\n",
        "lcm=lambda a,b:(a*b)/gcd(a,b)\n",
        " \n",
        "x=45\n",
        "y=16\n",
        "print(\"The Given Numbers:\",x,y)\n",
        "print(\"GCD is:\",gcd(x,y))\n",
        "print(\"LCM is:\",lcm(x,y))"
      ],
      "execution_count": null,
      "outputs": [
        {
          "output_type": "stream",
          "text": [
            "The Given Numbers: 45 16\n",
            "GCD is: 45\n",
            "LCM is: 16.0\n"
          ],
          "name": "stdout"
        }
      ]
    },
    {
      "cell_type": "markdown",
      "metadata": {
        "id": "NsSi86iFzlb_"
      },
      "source": [
        "Exercise-11: multi-D lists\n",
        "a) write a program that defines a matrix and prints"
      ]
    },
    {
      "cell_type": "code",
      "metadata": {
        "colab": {
          "base_uri": "https://localhost:8080/"
        },
        "id": "qNmzrkU4zwQC",
        "outputId": "5013e47d-8d31-4d38-fac1-6ae2387d98f6"
      },
      "source": [
        "2\n",
        "matA=[[]]\n",
        "rows=int(input(\"Enter row size of Matrix:\"))\n",
        "cols=int(input(\"Enter column size of Matrix:\"))\n",
        " \n",
        "matA=[[int(input(\"Enter[%d,%d]value:\"%(i,j)))for j in range(cols)]for i in range(rows)]\n",
        " \n",
        "print(\"Matrix is:\")\n",
        "for i in range(rows):\n",
        "  for j in range(cols):\n",
        "    print(matA[i][j],end='\\n')\n",
        "print()"
      ],
      "execution_count": null,
      "outputs": [
        {
          "output_type": "stream",
          "text": [
            "Enter row size of Matrix:2\n",
            "Enter column size of Matrix:2\n",
            "Enter[0,0]value:5\n",
            "Enter[0,1]value:5\n",
            "Enter[1,0]value:7\n",
            "Enter[1,1]value:8\n",
            "Matrix is:\n",
            "5\n",
            "5\n",
            "7\n",
            "8\n",
            "\n"
          ],
          "name": "stdout"
        }
      ]
    },
    {
      "cell_type": "markdown",
      "metadata": {
        "id": "efq-4ncF11au"
      },
      "source": [
        "b)write a program to perform addition of two square matrices"
      ]
    },
    {
      "cell_type": "code",
      "metadata": {
        "colab": {
          "base_uri": "https://localhost:8080/",
          "height": 478
        },
        "id": "UuZyAXAmmnAZ",
        "outputId": "a4241272-f818-47fc-938f-e3d4b0a37d80"
      },
      "source": [
        " \n",
        "A=[]\n",
        "n=int(input(\"Enter N for N x N matrix : \"))         \n",
        "print(\"Enter the element ::>\")\n",
        "for i in range(n): \n",
        "   row=[]                                        #te\n",
        " \n",
        "for j in range(n): \n",
        "   row.append(int(input()))                \n",
        "A.append(row)                               \n",
        "print(A)\n",
        "print(\"Display Array In Matrix Form\")\n",
        "for i in range(n):\n",
        "   for j in range(n):\n",
        "      print(A[i][j], end=\" \")                  \n",
        "   print() \n",
        "B=[]\n",
        "n=int(input(\"Enter N for N x N matrix : \"))       \n",
        "print(\"Enter the element ::>\")\n",
        "for i in range(n): \n",
        "   row=[]                                        \n",
        "   for j in range(n): \n",
        "      row.append(int(input()))             \n",
        "   B.append(row)                            \n",
        "print(B)\n",
        "print(\"Display Array In Matrix Form\")\n",
        "for i in range(n):\n",
        "   for j in range(n):\n",
        "      print(B[i][j], end=\" \")\n",
        "   print()                                            \n",
        "result = [[0,0,0], [0,0,0], [0,0,0]] \n",
        " for i in range(n):    \n",
        "  for j in range(len(A[0])): \n",
        "   result[i][j] = A[i][j] + B[i][j] \n",
        "print(\"Resultant Matrix is ::>\")\n",
        " for r in result: \n",
        "   print(\"Resultant Matrix is ::>\",r)"
      ],
      "execution_count": null,
      "outputs": [
        {
          "output_type": "stream",
          "text": [
            "Enter N for N x N matrix : 2\n",
            "Enter the element ::>\n",
            "2\n",
            "3\n",
            "[[2, 3]]\n",
            "Display Array In Matrix Form\n",
            "2 3 \n"
          ],
          "name": "stdout"
        },
        {
          "output_type": "error",
          "ename": "IndexError",
          "evalue": "ignored",
          "traceback": [
            "\u001b[0;31m---------------------------------------------------------------------------\u001b[0m",
            "\u001b[0;31mIndexError\u001b[0m                                Traceback (most recent call last)",
            "\u001b[0;32m<ipython-input-9-b09598769f8b>\u001b[0m in \u001b[0;36m<module>\u001b[0;34m()\u001b[0m\n\u001b[1;32m     13\u001b[0m \u001b[0;32mfor\u001b[0m \u001b[0mi\u001b[0m \u001b[0;32min\u001b[0m \u001b[0mrange\u001b[0m\u001b[0;34m(\u001b[0m\u001b[0mn\u001b[0m\u001b[0;34m)\u001b[0m\u001b[0;34m:\u001b[0m\u001b[0;34m\u001b[0m\u001b[0;34m\u001b[0m\u001b[0m\n\u001b[1;32m     14\u001b[0m   \u001b[0;32mfor\u001b[0m \u001b[0mj\u001b[0m \u001b[0;32min\u001b[0m \u001b[0mrange\u001b[0m\u001b[0;34m(\u001b[0m\u001b[0mn\u001b[0m\u001b[0;34m)\u001b[0m\u001b[0;34m:\u001b[0m\u001b[0;34m\u001b[0m\u001b[0;34m\u001b[0m\u001b[0m\n\u001b[0;32m---> 15\u001b[0;31m      \u001b[0mprint\u001b[0m\u001b[0;34m(\u001b[0m\u001b[0mA\u001b[0m\u001b[0;34m[\u001b[0m\u001b[0mi\u001b[0m\u001b[0;34m]\u001b[0m\u001b[0;34m[\u001b[0m\u001b[0mj\u001b[0m\u001b[0;34m]\u001b[0m\u001b[0;34m,\u001b[0m \u001b[0mend\u001b[0m\u001b[0;34m=\u001b[0m\u001b[0;34m\" \"\u001b[0m\u001b[0;34m)\u001b[0m\u001b[0;34m\u001b[0m\u001b[0;34m\u001b[0m\u001b[0m\n\u001b[0m\u001b[1;32m     16\u001b[0m   \u001b[0mprint\u001b[0m\u001b[0;34m(\u001b[0m\u001b[0;34m)\u001b[0m\u001b[0;34m\u001b[0m\u001b[0;34m\u001b[0m\u001b[0m\n\u001b[1;32m     17\u001b[0m \u001b[0mB\u001b[0m\u001b[0;34m=\u001b[0m\u001b[0;34m[\u001b[0m\u001b[0;34m]\u001b[0m\u001b[0;34m\u001b[0m\u001b[0;34m\u001b[0m\u001b[0m\n",
            "\u001b[0;31mIndexError\u001b[0m: list index out of range"
          ]
        }
      ]
    },
    {
      "cell_type": "markdown",
      "metadata": {
        "id": "Czpziq4EpVlc"
      },
      "source": [
        " c) write a program to perform multiplication of two matrices"
      ]
    },
    {
      "cell_type": "code",
      "metadata": {
        "colab": {
          "base_uri": "https://localhost:8080/",
          "height": 879
        },
        "id": "bEkMEMxCpglE",
        "outputId": "a2b393c3-a86e-4027-e91f-26977748ef57"
      },
      "source": [
        " A=[]\n",
        "n=int(input(\"Enter N for N x N matrix: \"))         \n",
        "print(\"Enter the element ::>\")\n",
        "for i in range(n): \n",
        "   row=[]                                      #temporary list to store the row\n",
        "   for j in range(n): \n",
        "      row.append(int(input()))           #add the input to row list\n",
        "      A.append(row)                      #add the row to the list\n",
        "print(A)\n",
        "# [[1, 2, 3], [4, 5, 6], [7, 8, 9]]\n",
        "#Display the 2D array\n",
        "print(\"Display Array In Matrix Form\")\n",
        "for i in range(n):\n",
        "   for j in range(n):\n",
        "      print(A[i][j], end=\" \")\n",
        "   print()                                        #new line\n",
        "B=[]\n",
        "n=int(input(\"Enter N for N x N matrix : \"))           #3 here\n",
        "#use list for storing 2D array\n",
        "#get the user input and store it in list (here IN : 1 to 9)\n",
        "print(\"Enter the element ::>\")\n",
        "for i in range (n): \n",
        "   row=[]                                      #temporary list to store the row\n",
        "   for j in range(n): \n",
        "      row.append(int(input()))           #add the input to row list\n",
        "      B.append(row)                       #add the row to the list\n",
        "print(B)\n",
        "# [[1, 2, 3], [4, 5, 6], [7, 8, 9]]\n",
        "#Display the 2D array\n",
        "print(\"Display Array In Matrix Form\")\n",
        "for i in range(n):\n",
        "   for j in range(n):\n",
        "      print(B[i][j], end=\" \")\n",
        "   print()                                           \n",
        "result = [[0,0,0], [0,0,0], [0,0,0]] \n",
        "for i in range(len(A)): \n",
        "   for j in range(len(B[0])): \n",
        "      for k in range(len(B)): \n",
        "         result[i][j] += A[i][k] * B[k][j] \n",
        "print(\"The Resultant Matrix Is ::>\")\n",
        "for r in result: \n",
        "   print(r)"
      ],
      "execution_count": null,
      "outputs": [
        {
          "output_type": "stream",
          "text": [
            "Enter N for N x N matrix: 3\n",
            "Enter the element ::>\n",
            "4\n",
            "3\n",
            "2\n",
            "4\n",
            "4\n",
            "9\n",
            "2\n",
            "5\n",
            "10\n",
            "[[4, 3, 2], [4, 3, 2], [4, 3, 2], [4, 4, 9], [4, 4, 9], [4, 4, 9], [2, 5, 10], [2, 5, 10], [2, 5, 10]]\n",
            "Display Array In Matrix Form\n",
            "4 3 2 \n",
            "4 3 2 \n",
            "4 3 2 \n",
            "Enter N for N x N matrix : 2\n",
            "Enter the element ::>\n",
            "56\n",
            "3\n",
            "6\n",
            "3\n",
            "[[56, 3], [56, 3], [6, 3], [6, 3]]\n",
            "Display Array In Matrix Form\n",
            "56 3 \n",
            "56 3 \n"
          ],
          "name": "stdout"
        },
        {
          "output_type": "error",
          "ename": "IndexError",
          "evalue": "ignored",
          "traceback": [
            "\u001b[0;31m---------------------------------------------------------------------------\u001b[0m",
            "\u001b[0;31mIndexError\u001b[0m                                Traceback (most recent call last)",
            "\u001b[0;32m<ipython-input-11-c874b638f96c>\u001b[0m in \u001b[0;36m<module>\u001b[0;34m()\u001b[0m\n\u001b[1;32m     37\u001b[0m   \u001b[0;32mfor\u001b[0m \u001b[0mj\u001b[0m \u001b[0;32min\u001b[0m \u001b[0mrange\u001b[0m\u001b[0;34m(\u001b[0m\u001b[0mlen\u001b[0m\u001b[0;34m(\u001b[0m\u001b[0mB\u001b[0m\u001b[0;34m[\u001b[0m\u001b[0;36m0\u001b[0m\u001b[0;34m]\u001b[0m\u001b[0;34m)\u001b[0m\u001b[0;34m)\u001b[0m\u001b[0;34m:\u001b[0m\u001b[0;34m\u001b[0m\u001b[0;34m\u001b[0m\u001b[0m\n\u001b[1;32m     38\u001b[0m      \u001b[0;32mfor\u001b[0m \u001b[0mk\u001b[0m \u001b[0;32min\u001b[0m \u001b[0mrange\u001b[0m\u001b[0;34m(\u001b[0m\u001b[0mlen\u001b[0m\u001b[0;34m(\u001b[0m\u001b[0mB\u001b[0m\u001b[0;34m)\u001b[0m\u001b[0;34m)\u001b[0m\u001b[0;34m:\u001b[0m\u001b[0;34m\u001b[0m\u001b[0;34m\u001b[0m\u001b[0m\n\u001b[0;32m---> 39\u001b[0;31m         \u001b[0mresult\u001b[0m\u001b[0;34m[\u001b[0m\u001b[0mi\u001b[0m\u001b[0;34m]\u001b[0m\u001b[0;34m[\u001b[0m\u001b[0mj\u001b[0m\u001b[0;34m]\u001b[0m \u001b[0;34m+=\u001b[0m \u001b[0mA\u001b[0m\u001b[0;34m[\u001b[0m\u001b[0mi\u001b[0m\u001b[0;34m]\u001b[0m\u001b[0;34m[\u001b[0m\u001b[0mk\u001b[0m\u001b[0;34m]\u001b[0m \u001b[0;34m*\u001b[0m \u001b[0mB\u001b[0m\u001b[0;34m[\u001b[0m\u001b[0mk\u001b[0m\u001b[0;34m]\u001b[0m\u001b[0;34m[\u001b[0m\u001b[0mj\u001b[0m\u001b[0;34m]\u001b[0m\u001b[0;34m\u001b[0m\u001b[0;34m\u001b[0m\u001b[0m\n\u001b[0m\u001b[1;32m     40\u001b[0m \u001b[0mprint\u001b[0m\u001b[0;34m(\u001b[0m\u001b[0;34m\"The Resultant Matrix Is ::>\"\u001b[0m\u001b[0;34m)\u001b[0m\u001b[0;34m\u001b[0m\u001b[0;34m\u001b[0m\u001b[0m\n\u001b[1;32m     41\u001b[0m \u001b[0;32mfor\u001b[0m \u001b[0mr\u001b[0m \u001b[0;32min\u001b[0m \u001b[0mresult\u001b[0m\u001b[0;34m:\u001b[0m\u001b[0;34m\u001b[0m\u001b[0;34m\u001b[0m\u001b[0m\n",
            "\u001b[0;31mIndexError\u001b[0m: list index out of range"
          ]
        }
      ]
    },
    {
      "cell_type": "markdown",
      "metadata": {
        "id": "6W7Qe83Jq0nz"
      },
      "source": [
        "Exercise-12 : modules\n",
        "a)install packages requests,flask and explore them,using(pip)"
      ]
    },
    {
      "cell_type": "code",
      "metadata": {
        "colab": {
          "base_uri": "https://localhost:8080/",
          "height": 218
        },
        "id": "HEX_KXN4rSen",
        "outputId": "09a78cb5-685f-433b-92e6-30efe05f6519"
      },
      "source": [
        "C:\\python3.9\\scripts>pip install requests"
      ],
      "execution_count": null,
      "outputs": [
        {
          "output_type": "error",
          "ename": "SyntaxError",
          "evalue": "ignored",
          "traceback": [
            "\u001b[0;36m  File \u001b[0;32m\"<ipython-input-13-5a901ed6e6d4>\"\u001b[0;36m, line \u001b[0;32m1\u001b[0m\n\u001b[0;31m    C:\"\\\"python3.9\"\\\"scripts>pip install requests\u001b[0m\n\u001b[0m                                                 ^\u001b[0m\n\u001b[0;31mSyntaxError\u001b[0m\u001b[0;31m:\u001b[0m unexpected character after line continuation character\n"
          ]
        }
      ]
    },
    {
      "cell_type": "markdown",
      "metadata": {
        "id": "ztmD4HU-sGec"
      },
      "source": [
        "b)write a script that imports requests and fetch content from the page. Eg.(wiki)"
      ]
    },
    {
      "cell_type": "code",
      "metadata": {
        "colab": {
          "base_uri": "https://localhost:8080/"
        },
        "id": "_gOrbM4gsWfY",
        "outputId": "756c8c1c-e939-471a-edb6-6f712eea19af"
      },
      "source": [
        "import requests\n",
        "r=requests.get('https://www.google.com')\n",
        " \n",
        "print(\"Statuscode:\",r.status_code)\n",
        " \n",
        "print(\"Header Content:\",r.headers['content-type'])\n",
        " \n",
        "print(r.text)"
      ],
      "execution_count": null,
      "outputs": [
        {
          "output_type": "stream",
          "text": [
            "Statuscode: 200\n",
            "Header Content: text/html; charset=ISO-8859-1\n",
            "<!doctype html><html itemscope=\"\" itemtype=\"http://schema.org/WebPage\" lang=\"en\"><head><meta content=\"Search the world's information, including webpages, images, videos and more. Google has many special features to help you find exactly what you're looking for.\" name=\"description\"><meta content=\"noodp\" name=\"robots\"><meta content=\"text/html; charset=UTF-8\" http-equiv=\"Content-Type\"><meta content=\"/images/branding/googleg/1x/googleg_standard_color_128dp.png\" itemprop=\"image\"><title>Google</title><script nonce=\"tEkBM3me6ckvwb/FZDWTiw==\">(function(){window.google={kEI:'ucfZYLKVCJmNwbkP66CR4Ac',kEXPI:'0,772215,1,530320,92,56781,954,5104,207,4804,2316,383,246,5,1354,4936,315,16231,10,1106274,1197781,501,328985,51224,16114,28684,17572,4859,1361,9291,3023,17585,4020,978,13228,3847,4192,6430,1142,13385,236,4282,2777,919,5081,1593,1279,2212,241,289,149,561,542,840,1983,4314,108,3406,606,2023,2297,14670,3227,2847,5,12354,5096,7876,4929,108,1483,1924,908,2,941,5011,1387,8926,432,3,1590,1,3371,2074,148,5990,5333,991,1661,4,1528,2304,1236,5227,576,74,1983,2626,2015,4067,7434,3824,3050,2658,4243,3112,32,11413,2215,2305,638,37,1457,5587,9764,770,665,2521,3303,2533,2046,2048,20,3118,6,908,3,1327,2214,1,5349,8914,453,1,1807,283,38,874,5992,6754,432,552,4608,180,2,1394,756,769,18,1,1262,1715,2,3057,723,2,1290,4140,627,4,32,4,1341,4046,4,683,442,185,157,254,56,4,434,1454,925,91,30,2300,1275,4172,406,2091,1606,172,3587,1807,157,3,309,54,677,645,515,1269,1794,1631,3,2003,1441,32,904,274,3,1069,1,53,1321,3367,306,36,2,631,204,3,75,48,779,702,783,390,2638,58,13,695,753,319,2068,66,1,12,3,1,362,342,585,238,345,6,2400,66,1,8,10,1,8,42,217,1366,84,77,954,72,739,1361,131,1621,519,93,597,937,297,418,2,297,142,421,5624893,194,32,63,155,2,59,1,5996809,45,81,2800570,882,444,1,2,80,1,1796,1,9,2,2551,1,748,141,795,563,1,4265,1,1,2,1331,3299,843,2609,155,17,13,72,139,4,2,20,2,169,13,19,46,5,39,96,548,29,2,2,1,2,1,2,2,7,4,1,2,2,2,2,2,2,353,513,201,12,15,4,4,2,2,16,15,2,2,16,5,8,16,1,2,59,7,23954973,2738464,118991,9799,1143020,268,1835,24965,1502,2,864,1510,3,120,3,6,338,3,2340,74,1018,139,623',kBL:'agTH'};google.sn='webhp';google.kHL='en';})();(function(){\n",
            "var f=this||self;var h,k=[];function l(a){for(var b;a&&(!a.getAttribute||!(b=a.getAttribute(\"eid\")));)a=a.parentNode;return b||h}function m(a){for(var b=null;a&&(!a.getAttribute||!(b=a.getAttribute(\"leid\")));)a=a.parentNode;return b}\n",
            "function n(a,b,c,d,g){var e=\"\";c||-1!==b.search(\"&ei=\")||(e=\"&ei=\"+l(d),-1===b.search(\"&lei=\")&&(d=m(d))&&(e+=\"&lei=\"+d));d=\"\";!c&&f._cshid&&-1===b.search(\"&cshid=\")&&\"slh\"!==a&&(d=\"&cshid=\"+f._cshid);c=c||\"/\"+(g||\"gen_204\")+\"?atyp=i&ct=\"+a+\"&cad=\"+b+e+\"&zx=\"+Date.now()+d;/^http:/i.test(c)&&\"https:\"===window.location.protocol&&(google.ml&&google.ml(Error(\"a\"),!1,{src:c,glmm:1}),c=\"\");return c};h=google.kEI;google.getEI=l;google.getLEI=m;google.ml=function(){return null};google.log=function(a,b,c,d,g){if(c=n(a,b,c,d,g)){a=new Image;var e=k.length;k[e]=a;a.onerror=a.onload=a.onabort=function(){delete k[e]};a.src=c}};google.logUrl=n;}).call(this);(function(){\n",
            "google.y={};google.sy=[];google.x=function(a,b){if(a)var c=a.id;else{do c=Math.random();while(google.y[c])}google.y[c]=[a,b];return!1};google.sx=function(a){google.sy.push(a)};google.lm=[];google.plm=function(a){google.lm.push.apply(google.lm,a)};google.lq=[];google.load=function(a,b,c){google.lq.push([[a],b,c])};google.loadAll=function(a,b){google.lq.push([a,b])};google.bx=!1;google.lx=function(){};}).call(this);google.f={};(function(){\n",
            "document.documentElement.addEventListener(\"submit\",function(b){var a;if(a=b.target){var c=a.getAttribute(\"data-submitfalse\");a=\"1\"==c||\"q\"==c&&!a.elements.q.value?!0:!1}else a=!1;a&&(b.preventDefault(),b.stopPropagation())},!0);document.documentElement.addEventListener(\"click\",function(b){var a;a:{for(a=b.target;a&&a!=document.documentElement;a=a.parentElement)if(\"A\"==a.tagName){a=\"1\"==a.getAttribute(\"data-nohref\");break a}a=!1}a&&b.preventDefault()},!0);}).call(this);</script><style>#gbar,#guser{font-size:13px;padding-top:1px !important;}#gbar{height:22px}#guser{padding-bottom:7px !important;text-align:right}.gbh,.gbd{border-top:1px solid #c9d7f1;font-size:1px}.gbh{height:0;position:absolute;top:24px;width:100%}@media all{.gb1{height:22px;margin-right:.5em;vertical-align:top}#gbar{float:left}}a.gb1,a.gb4{text-decoration:underline !important}a.gb1,a.gb4{color:#00c !important}.gbi .gb4{color:#dd8e27 !important}.gbf .gb4{color:#900 !important}\n",
            "</style><style>body,td,a,p,.h{font-family:arial,sans-serif}body{margin:0;overflow-y:scroll}#gog{padding:3px 8px 0}td{line-height:.8em}.gac_m td{line-height:17px}form{margin-bottom:20px}.h{color:#1558d6}em{font-weight:bold;font-style:normal}.lst{height:25px;width:496px}.gsfi,.lst{font:18px arial,sans-serif}.gsfs{font:17px arial,sans-serif}.ds{display:inline-box;display:inline-block;margin:3px 0 4px;margin-left:4px}input{font-family:inherit}body{background:#fff;color:#000}a{color:#4b11a8;text-decoration:none}a:hover,a:active{text-decoration:underline}.fl a{color:#1558d6}a:visited{color:#4b11a8}.sblc{padding-top:5px}.sblc a{display:block;margin:2px 0;margin-left:13px;font-size:11px}.lsbb{background:#f8f9fa;border:solid 1px;border-color:#dadce0 #70757a #70757a #dadce0;height:30px}.lsbb{display:block}#WqQANb a{display:inline-block;margin:0 12px}.lsb{background:url(/images/nav_logo229.png) 0 -261px repeat-x;border:none;color:#000;cursor:pointer;height:30px;margin:0;outline:0;font:15px arial,sans-serif;vertical-align:top}.lsb:active{background:#dadce0}.lst:focus{outline:none}</style><script nonce=\"tEkBM3me6ckvwb/FZDWTiw==\"></script></head><body bgcolor=\"#fff\"><script nonce=\"tEkBM3me6ckvwb/FZDWTiw==\">(function(){var src='/images/nav_logo229.png';var iesg=false;document.body.onload = function(){window.n && window.n();if (document.images){new Image().src=src;}\n",
            "if (!iesg){document.f&&document.f.q.focus();document.gbqf&&document.gbqf.q.focus();}\n",
            "}\n",
            "})();</script><div id=\"mngb\"><div id=gbar><nobr><b class=gb1>Search</b> <a class=gb1 href=\"https://www.google.com/imghp?hl=en&tab=wi\">Images</a> <a class=gb1 href=\"https://maps.google.com/maps?hl=en&tab=wl\">Maps</a> <a class=gb1 href=\"https://play.google.com/?hl=en&tab=w8\">Play</a> <a class=gb1 href=\"https://www.youtube.com/?gl=US&tab=w1\">YouTube</a> <a class=gb1 href=\"https://news.google.com/?tab=wn\">News</a> <a class=gb1 href=\"https://mail.google.com/mail/?tab=wm\">Gmail</a> <a class=gb1 href=\"https://drive.google.com/?tab=wo\">Drive</a> <a class=gb1 style=\"text-decoration:none\" href=\"https://www.google.com/intl/en/about/products?tab=wh\"><u>More</u> &raquo;</a></nobr></div><div id=guser width=100%><nobr><span id=gbn class=gbi></span><span id=gbf class=gbf></span><span id=gbe></span><a href=\"http://www.google.com/history/optout?hl=en\" class=gb4>Web History</a> | <a  href=\"/preferences?hl=en\" class=gb4>Settings</a> | <a target=_top id=gb_70 href=\"https://accounts.google.com/ServiceLogin?hl=en&passive=true&continue=https://www.google.com/&ec=GAZAAQ\" class=gb4>Sign in</a></nobr></div><div class=gbh style=left:0></div><div class=gbh style=right:0></div></div><center><br clear=\"all\" id=\"lgpd\"><div id=\"lga\"><img alt=\"Google\" height=\"92\" src=\"/images/branding/googlelogo/1x/googlelogo_white_background_color_272x92dp.png\" style=\"padding:28px 0 14px\" width=\"272\" id=\"hplogo\"><br><br></div><form action=\"/search\" name=\"f\"><table cellpadding=\"0\" cellspacing=\"0\"><tr valign=\"top\"><td width=\"25%\">&nbsp;</td><td align=\"center\" nowrap=\"\"><input name=\"ie\" value=\"ISO-8859-1\" type=\"hidden\"><input value=\"en\" name=\"hl\" type=\"hidden\"><input name=\"source\" type=\"hidden\" value=\"hp\"><input name=\"biw\" type=\"hidden\"><input name=\"bih\" type=\"hidden\"><div class=\"ds\" style=\"height:32px;margin:4px 0\"><input class=\"lst\" style=\"margin:0;padding:5px 8px 0 6px;vertical-align:top;color:#000\" autocomplete=\"off\" value=\"\" title=\"Google Search\" maxlength=\"2048\" name=\"q\" size=\"57\"></div><br style=\"line-height:0\"><span class=\"ds\"><span class=\"lsbb\"><input class=\"lsb\" value=\"Google Search\" name=\"btnG\" type=\"submit\"></span></span><span class=\"ds\"><span class=\"lsbb\"><input class=\"lsb\" id=\"tsuid1\" value=\"I'm Feeling Lucky\" name=\"btnI\" type=\"submit\"><script nonce=\"tEkBM3me6ckvwb/FZDWTiw==\">(function(){var id='tsuid1';document.getElementById(id).onclick = function(){if (this.form.q.value){this.checked = 1;if (this.form.iflsig)this.form.iflsig.disabled = false;}\n",
            "else top.location='/doodles/';};})();</script><input value=\"AINFCbYAAAAAYNnVyc73U-slJ8wQOqSEE6xskwiPNLIy\" name=\"iflsig\" type=\"hidden\"></span></span></td><td class=\"fl sblc\" align=\"left\" nowrap=\"\" width=\"25%\"><a href=\"/advanced_search?hl=en&amp;authuser=0\">Advanced search</a></td></tr></table><input id=\"gbv\" name=\"gbv\" type=\"hidden\" value=\"1\"><script nonce=\"tEkBM3me6ckvwb/FZDWTiw==\">(function(){\n",
            "var a,b=\"1\";if(document&&document.getElementById)if(\"undefined\"!=typeof XMLHttpRequest)b=\"2\";else if(\"undefined\"!=typeof ActiveXObject){var c,d,e=[\"MSXML2.XMLHTTP.6.0\",\"MSXML2.XMLHTTP.3.0\",\"MSXML2.XMLHTTP\",\"Microsoft.XMLHTTP\"];for(c=0;d=e[c++];)try{new ActiveXObject(d),b=\"2\"}catch(h){}}a=b;if(\"2\"==a&&-1==location.search.indexOf(\"&gbv=2\")){var f=google.gbvu,g=document.getElementById(\"gbv\");g&&(g.value=a);f&&window.setTimeout(function(){location.href=f},0)};}).call(this);</script></form><div id=\"gac_scont\"></div><div style=\"font-size:83%;min-height:3.5em\"><br><div id=\"prm\"><style>.szppmdbYutt__middle-slot-promo{font-size:small;margin-bottom:32px}.szppmdbYutt__middle-slot-promo a.ZIeIlb{display:inline-block;text-decoration:none}.szppmdbYutt__middle-slot-promo img{border:none;margin-right:5px;vertical-align:middle}</style><div class=\"szppmdbYutt__middle-slot-promo\" data-ved=\"0ahUKEwjy1aL-sLrxAhWZRjABHWtQBHwQnIcBCAQ\"><a class=\"NKcBbd\" href=\"https://www.google.com/url?q=https://pride.google/%3Futm_source%3Dgoogle%26utm_medium%3Dhpp%26utm_campaign%3DEN-US&amp;source=hpp&amp;id=19024981&amp;ct=3&amp;usg=AFQjCNFbQ2aF-8E_09h5vrqCeaGf6Ma6-w&amp;sa=X&amp;ved=0ahUKEwjy1aL-sLrxAhWZRjABHWtQBHwQ8IcBCAU\" rel=\"nofollow\">Celebrating Pride, inclusive spaces and LGBTQ+ small businesses</a></div></div></div><span id=\"footer\"><div style=\"font-size:10pt\"><div style=\"margin:19px auto;text-align:center\" id=\"WqQANb\"><a href=\"/intl/en/ads/\">Advertising Programs</a><a href=\"/services/\">Business Solutions</a><a href=\"/intl/en/about.html\">About Google</a></div></div><p style=\"font-size:8pt;color:#70757a\">&copy; 2021 - <a href=\"/intl/en/policies/privacy/\">Privacy</a> - <a href=\"/intl/en/policies/terms/\">Terms</a></p></span></center><script nonce=\"tEkBM3me6ckvwb/FZDWTiw==\">(function(){window.google.cdo={height:0,width:0};(function(){\n",
            "var a=window.innerWidth,b=window.innerHeight;if(!a||!b){var c=window.document,d=\"CSS1Compat\"==c.compatMode?c.documentElement:c.body;a=d.clientWidth;b=d.clientHeight}a&&b&&(a!=google.cdo.width||b!=google.cdo.height)&&google.log(\"\",\"\",\"/client_204?&atyp=i&biw=\"+a+\"&bih=\"+b+\"&ei=\"+google.kEI);}).call(this);})();</script> <script nonce=\"tEkBM3me6ckvwb/FZDWTiw==\">(function(){google.xjs={ck:'',cs:'',excm:[],pml:false};})();</script>  <script nonce=\"tEkBM3me6ckvwb/FZDWTiw==\">(function(){var u='/xjs/_/js/k\\x3dxjs.hp.en_US.JRh4tN6N9QQ.O/m\\x3dsb_he,d/am\\x3dAHgCLA/d\\x3d1/ed\\x3d1/rs\\x3dACT90oGq1Ln_99CJXORDJChcIkowqosPIA';\n",
            "var e=this||self,f=function(a){return a};var g;var l=function(a,b){this.g=b===h?a:\"\"};l.prototype.toString=function(){return this.g+\"\"};var h={};function m(){var a=u;google.lx=function(){n(a);google.lx=function(){}};google.bx||google.lx()}\n",
            "function n(a){google.timers&&google.timers.load&&google.tick&&google.tick(\"load\",\"xjsls\");var b=document;var c=\"SCRIPT\";\"application/xhtml+xml\"===b.contentType&&(c=c.toLowerCase());c=b.createElement(c);if(void 0===g){b=null;var k=e.trustedTypes;if(k&&k.createPolicy){try{b=k.createPolicy(\"goog#html\",{createHTML:f,createScript:f,createScriptURL:f})}catch(p){e.console&&e.console.error(p.message)}g=b}else g=b}a=(b=g)?b.createScriptURL(a):a;a=new l(a,h);c.src=a instanceof l&&a.constructor===l?a.g:\"type_error:TrustedResourceUrl\";var d;a=(c.ownerDocument&&c.ownerDocument.defaultView||window).document;(d=(a=null===(d=a.querySelector)||void 0===d?void 0:d.call(a,\"script[nonce]\"))?a.nonce||a.getAttribute(\"nonce\")||\"\":\"\")&&c.setAttribute(\"nonce\",d);document.body.appendChild(c);google.psa=!0};setTimeout(function(){m()},0);})();(function(){window.google.xjsu='/xjs/_/js/k\\x3dxjs.hp.en_US.JRh4tN6N9QQ.O/m\\x3dsb_he,d/am\\x3dAHgCLA/d\\x3d1/ed\\x3d1/rs\\x3dACT90oGq1Ln_99CJXORDJChcIkowqosPIA';})();function _DumpException(e){throw e;}\n",
            "function _F_installCss(c){}\n",
            "(function(){google.jl={attn:false,blt:'none',dw:false,emtn:0,ine:false,lls:'default',pdt:0,snet:true,ubm:false,uwp:true};})();(function(){var pmc='{\\x22d\\x22:{},\\x22sb_he\\x22:{\\x22agen\\x22:true,\\x22cgen\\x22:true,\\x22client\\x22:\\x22heirloom-hp\\x22,\\x22dh\\x22:true,\\x22dhqt\\x22:true,\\x22ds\\x22:\\x22\\x22,\\x22ffql\\x22:\\x22en\\x22,\\x22fl\\x22:true,\\x22host\\x22:\\x22google.com\\x22,\\x22isbh\\x22:28,\\x22jsonp\\x22:true,\\x22msgs\\x22:{\\x22cibl\\x22:\\x22Clear Search\\x22,\\x22dym\\x22:\\x22Did you mean:\\x22,\\x22lcky\\x22:\\x22I\\\\u0026#39;m Feeling Lucky\\x22,\\x22lml\\x22:\\x22Learn more\\x22,\\x22oskt\\x22:\\x22Input tools\\x22,\\x22psrc\\x22:\\x22This search was removed from your \\\\u003Ca href\\x3d\\\\\\x22/history\\\\\\x22\\\\u003EWeb History\\\\u003C/a\\\\u003E\\x22,\\x22psrl\\x22:\\x22Remove\\x22,\\x22sbit\\x22:\\x22Search by image\\x22,\\x22srch\\x22:\\x22Google Search\\x22},\\x22nrft\\x22:false,\\x22ovr\\x22:{},\\x22pq\\x22:\\x22\\x22,\\x22refpd\\x22:true,\\x22rfs\\x22:[],\\x22sbas\\x22:\\x220 3px 8px 0 rgba(0,0,0,0.2),0 0 0 1px rgba(0,0,0,0.08)\\x22,\\x22sbpl\\x22:16,\\x22sbpr\\x22:16,\\x22scd\\x22:10,\\x22stok\\x22:\\x22HbILfrI3-Dd10vRwADnT4Hf42wg\\x22,\\x22uhde\\x22:false}}';google.pmc=JSON.parse(pmc);})();</script>        </body></html>\n"
          ],
          "name": "stdout"
        }
      ]
    },
    {
      "cell_type": "markdown",
      "metadata": {
        "id": "8GQX1pfhtHtc"
      },
      "source": [
        "c)write a simple script that serves a simple HTTPResponse and a simple HTML.page"
      ]
    },
    {
      "cell_type": "code",
      "metadata": {
        "colab": {
          "base_uri": "https://localhost:8080/",
          "height": 148
        },
        "id": "YpkWDCrPtUMv",
        "outputId": "9357ceee-4276-48ab-d1be-e2b100e09efb"
      },
      "source": [
        "from flask import Flask,render_template\n",
        "app=Flask(_name_)\n",
        "print(app)\n",
        "@app.route(\"/\")\n",
        "def main():\n",
        " return render_template('login.html')\n",
        " \n",
        "if__name__==\"__main__\":\n",
        " app.run(host=\"127.0.0.1\",port=2500)"
      ],
      "execution_count": null,
      "outputs": [
        {
          "output_type": "error",
          "ename": "SyntaxError",
          "evalue": "ignored",
          "traceback": [
            "\u001b[0;36m  File \u001b[0;32m\"<ipython-input-17-9e5bc476fdd3>\"\u001b[0;36m, line \u001b[0;32m8\u001b[0m\n\u001b[0;31m    if__name__==\"__main__\":\u001b[0m\n\u001b[0m                           ^\u001b[0m\n\u001b[0;31mSyntaxError\u001b[0m\u001b[0;31m:\u001b[0m invalid syntax\n"
          ]
        }
      ]
    },
    {
      "cell_type": "markdown",
      "metadata": {
        "id": "B7JXVxp3ujhs"
      },
      "source": [
        "Exercise - - 13 oops\n",
        " \n",
        " \n",
        " \n",
        "a) Class variables and instance variable and illustration of the self-variable\n",
        " \n",
        "i) Robot"
      ]
    },
    {
      "cell_type": "code",
      "metadata": {
        "colab": {
          "base_uri": "https://localhost:8080/"
        },
        "id": "mOdTW_c_uxy8",
        "outputId": "dff0f556-16da-466e-af4a-b12924408396"
      },
      "source": [
        " \n",
        "class Robot:\n",
        "    what=\"Machine\"\n",
        "    name=\"Chitti\"\n",
        "    version=1.0\n",
        "    speed=\"1THz\"\n",
        "    memory=\"1ZB\"\n",
        " \n",
        "    def update(upd):\n",
        "        upd.version=2.0\n",
        "        upd.speed=\"2THz\"\n",
        "        upd.memory=\"2ZB\"\n",
        " \n",
        "    def disp(self):\n",
        "        print(\"Myself is a\",robj.what)\n",
        "        print(\"MyName is a\",robj.name)\n",
        "        print(\"Version :\",robj.version)\n",
        "        print(\"Speed : \",robj.speed)\n",
        "        print(\"Memory: \",robj.memory)\n",
        " \n",
        "robj=Robot()\n",
        "robj.disp()\n",
        " \n",
        "print(\"---------------Update---------\")\n",
        "robj.update()\n",
        "robj.disp()"
      ],
      "execution_count": null,
      "outputs": [
        {
          "output_type": "stream",
          "text": [
            "Myself is a Machine\n",
            "MyName is a Chitti\n",
            "Version : 1.0\n",
            "Speed :  1THz\n",
            "Memory:  1ZB\n",
            "---------------Update---------\n",
            "Myself is a Machine\n",
            "MyName is a Chitti\n",
            "Version : 2.0\n",
            "Speed :  2THz\n",
            "Memory:  2ZB\n"
          ],
          "name": "stdout"
        }
      ]
    },
    {
      "cell_type": "markdown",
      "metadata": {
        "id": "bgCHpAxevoNH"
      },
      "source": [
        "ii)ATM Machine"
      ]
    },
    {
      "cell_type": "code",
      "metadata": {
        "colab": {
          "base_uri": "https://localhost:8080/"
        },
        "id": "O3izMiIrvszY",
        "outputId": "0606c047-f070-4041-e9e8-bb28a6666b53"
      },
      "source": [
        " \n",
        "class ATM:\n",
        " \n",
        "    def __init__(self):\n",
        " \n",
        "        self.balance=0\n",
        " \n",
        "        print(\"New Account\")\n",
        " \n",
        "        \n",
        " \n",
        "    def enquire(self):\n",
        " \n",
        "        print(\"Balance: \",self.balance)\n",
        " \n",
        "        \n",
        " \n",
        "    def deposit(self):\n",
        " \n",
        "        amount=int(input(\"Enter the Deposit Amount:\"))\n",
        " \n",
        "        self.balance+=amount\n",
        " \n",
        "        self.enquire()\n",
        " \n",
        "    def withdraw(self):\n",
        " \n",
        "        amount=int(input(\"Enter the Withdraw Amount: \"))\n",
        " \n",
        "        if self.balance<amount:\n",
        " \n",
        "            print(\"Insufficient Balance.....!\")\n",
        " \n",
        "        else:\n",
        " \n",
        "            self.balance-=amount\n",
        " \n",
        "            self.enquire()\n",
        " \n",
        "aobj=ATM()\n",
        " \n",
        "while(True):\n",
        " \n",
        "    print(\"*****Menu****\")\n",
        " \n",
        "    print(\"1.Deposit\")\n",
        " \n",
        "    print(\"2.Withdarw\")\n",
        " \n",
        "    print(\"3.Balance\")\n",
        " \n",
        "    print(\"0.Exit\")\n",
        " \n",
        "    ch=int(input(\"Enter Your Choice: \"))\n",
        " \n",
        "    if ch==0:\n",
        " \n",
        "        break\n",
        " \n",
        "    elif ch==1:\n",
        " \n",
        "        aobj.deposit()\n",
        " \n",
        "    elif ch==2:\n",
        " \n",
        "        aobj.withdraw()\n",
        " \n",
        "    elif ch==3:\n",
        " \n",
        "        aobj.enquire()\n",
        " \n",
        "    else:\n",
        " \n",
        "        print(\"Invalid choice:\")\n",
        " \n",
        "        pass"
      ],
      "execution_count": null,
      "outputs": [
        {
          "output_type": "stream",
          "text": [
            "New Account\n",
            "*****Menu****\n",
            "1.Deposit\n",
            "2.Withdarw\n",
            "3.Balance\n",
            "0.Exit\n",
            "Enter Your Choice: 1\n",
            "Enter the Deposit Amount:100\n",
            "Balance:  100\n",
            "*****Menu****\n",
            "1.Deposit\n",
            "2.Withdarw\n",
            "3.Balance\n",
            "0.Exit\n",
            "Enter Your Choice: 2\n",
            "Enter the Withdraw Amount: 55\n",
            "Balance:  45\n",
            "*****Menu****\n",
            "1.Deposit\n",
            "2.Withdarw\n",
            "3.Balance\n",
            "0.Exit\n",
            "Enter Your Choice: 3\n",
            "Balance:  45\n",
            "*****Menu****\n",
            "1.Deposit\n",
            "2.Withdarw\n",
            "3.Balance\n",
            "0.Exit\n",
            "Enter Your Choice: 0\n"
          ],
          "name": "stdout"
        }
      ]
    },
    {
      "cell_type": "markdown",
      "metadata": {
        "id": "BfWdAFIPzArj"
      },
      "source": [
        " \n",
        "Exercise - 14 GUI, Graphics\n",
        "Write a GUI for an Expression Calculator using tk\n",
        "Write a program to implement the following figures using turtle\n",
        "In [ ]:"
      ]
    },
    {
      "cell_type": "code",
      "metadata": {
        "colab": {
          "base_uri": "https://localhost:8080/",
          "height": 678
        },
        "id": "-8E1bJ8WzV7x",
        "outputId": "2b4c1a60-ee1c-49ce-8d64-5e3dd30a76bf"
      },
      "source": [
        " import turtle\n",
        "c=[\"red\",\"green\",\"blue\"]\n",
        "i=0\n",
        "turtle.pensize(5)\n",
        " \n",
        "for angle in range(0,360,30):\n",
        "  if i>2:\n",
        "    i=0\n",
        "  turtle.color(c[i])\n",
        "  turtle.seth(angle)\n",
        "  turtle.circle(50)\n",
        "  i+=1"
      ],
      "execution_count": null,
      "outputs": [
        {
          "output_type": "error",
          "ename": "TclError",
          "evalue": "ignored",
          "traceback": [
            "\u001b[0;31m---------------------------------------------------------------------------\u001b[0m",
            "\u001b[0;31mTclError\u001b[0m                                  Traceback (most recent call last)",
            "\u001b[0;32m<ipython-input-23-7a1c924e92a0>\u001b[0m in \u001b[0;36m<module>\u001b[0;34m()\u001b[0m\n\u001b[1;32m      2\u001b[0m \u001b[0mc\u001b[0m\u001b[0;34m=\u001b[0m\u001b[0;34m[\u001b[0m\u001b[0;34m\"red\"\u001b[0m\u001b[0;34m,\u001b[0m\u001b[0;34m\"green\"\u001b[0m\u001b[0;34m,\u001b[0m\u001b[0;34m\"blue\"\u001b[0m\u001b[0;34m]\u001b[0m\u001b[0;34m\u001b[0m\u001b[0;34m\u001b[0m\u001b[0m\n\u001b[1;32m      3\u001b[0m \u001b[0mi\u001b[0m\u001b[0;34m=\u001b[0m\u001b[0;36m0\u001b[0m\u001b[0;34m\u001b[0m\u001b[0;34m\u001b[0m\u001b[0m\n\u001b[0;32m----> 4\u001b[0;31m \u001b[0mturtle\u001b[0m\u001b[0;34m.\u001b[0m\u001b[0mpensize\u001b[0m\u001b[0;34m(\u001b[0m\u001b[0;36m5\u001b[0m\u001b[0;34m)\u001b[0m\u001b[0;34m\u001b[0m\u001b[0;34m\u001b[0m\u001b[0m\n\u001b[0m\u001b[1;32m      5\u001b[0m \u001b[0;34m\u001b[0m\u001b[0m\n\u001b[1;32m      6\u001b[0m \u001b[0;32mfor\u001b[0m \u001b[0mangle\u001b[0m \u001b[0;32min\u001b[0m \u001b[0mrange\u001b[0m\u001b[0;34m(\u001b[0m\u001b[0;36m0\u001b[0m\u001b[0;34m,\u001b[0m\u001b[0;36m360\u001b[0m\u001b[0;34m,\u001b[0m\u001b[0;36m30\u001b[0m\u001b[0;34m)\u001b[0m\u001b[0;34m:\u001b[0m\u001b[0;34m\u001b[0m\u001b[0;34m\u001b[0m\u001b[0m\n",
            "\u001b[0;32m/usr/lib/python3.7/turtle.py\u001b[0m in \u001b[0;36mpensize\u001b[0;34m(width)\u001b[0m\n",
            "\u001b[0;32m/usr/lib/python3.7/turtle.py\u001b[0m in \u001b[0;36m__init__\u001b[0;34m(self, shape, undobuffersize, visible)\u001b[0m\n\u001b[1;32m   3810\u001b[0m                  visible=_CFG[\"visible\"]):\n\u001b[1;32m   3811\u001b[0m         \u001b[0;32mif\u001b[0m \u001b[0mTurtle\u001b[0m\u001b[0;34m.\u001b[0m\u001b[0m_screen\u001b[0m \u001b[0;32mis\u001b[0m \u001b[0;32mNone\u001b[0m\u001b[0;34m:\u001b[0m\u001b[0;34m\u001b[0m\u001b[0;34m\u001b[0m\u001b[0m\n\u001b[0;32m-> 3812\u001b[0;31m             \u001b[0mTurtle\u001b[0m\u001b[0;34m.\u001b[0m\u001b[0m_screen\u001b[0m \u001b[0;34m=\u001b[0m \u001b[0mScreen\u001b[0m\u001b[0;34m(\u001b[0m\u001b[0;34m)\u001b[0m\u001b[0;34m\u001b[0m\u001b[0;34m\u001b[0m\u001b[0m\n\u001b[0m\u001b[1;32m   3813\u001b[0m         RawTurtle.__init__(self, Turtle._screen,\n\u001b[1;32m   3814\u001b[0m                            \u001b[0mshape\u001b[0m\u001b[0;34m=\u001b[0m\u001b[0mshape\u001b[0m\u001b[0;34m,\u001b[0m\u001b[0;34m\u001b[0m\u001b[0;34m\u001b[0m\u001b[0m\n",
            "\u001b[0;32m/usr/lib/python3.7/turtle.py\u001b[0m in \u001b[0;36mScreen\u001b[0;34m()\u001b[0m\n\u001b[1;32m   3660\u001b[0m     else return the existing one.\"\"\"\n\u001b[1;32m   3661\u001b[0m     \u001b[0;32mif\u001b[0m \u001b[0mTurtle\u001b[0m\u001b[0;34m.\u001b[0m\u001b[0m_screen\u001b[0m \u001b[0;32mis\u001b[0m \u001b[0;32mNone\u001b[0m\u001b[0;34m:\u001b[0m\u001b[0;34m\u001b[0m\u001b[0;34m\u001b[0m\u001b[0m\n\u001b[0;32m-> 3662\u001b[0;31m         \u001b[0mTurtle\u001b[0m\u001b[0;34m.\u001b[0m\u001b[0m_screen\u001b[0m \u001b[0;34m=\u001b[0m \u001b[0m_Screen\u001b[0m\u001b[0;34m(\u001b[0m\u001b[0;34m)\u001b[0m\u001b[0;34m\u001b[0m\u001b[0;34m\u001b[0m\u001b[0m\n\u001b[0m\u001b[1;32m   3663\u001b[0m     \u001b[0;32mreturn\u001b[0m \u001b[0mTurtle\u001b[0m\u001b[0;34m.\u001b[0m\u001b[0m_screen\u001b[0m\u001b[0;34m\u001b[0m\u001b[0;34m\u001b[0m\u001b[0m\n\u001b[1;32m   3664\u001b[0m \u001b[0;34m\u001b[0m\u001b[0m\n",
            "\u001b[0;32m/usr/lib/python3.7/turtle.py\u001b[0m in \u001b[0;36m__init__\u001b[0;34m(self)\u001b[0m\n\u001b[1;32m   3676\u001b[0m         \u001b[0;31m# preserved (perhaps by passing it as an optional parameter)\u001b[0m\u001b[0;34m\u001b[0m\u001b[0;34m\u001b[0m\u001b[0;34m\u001b[0m\u001b[0m\n\u001b[1;32m   3677\u001b[0m         \u001b[0;32mif\u001b[0m \u001b[0m_Screen\u001b[0m\u001b[0;34m.\u001b[0m\u001b[0m_root\u001b[0m \u001b[0;32mis\u001b[0m \u001b[0;32mNone\u001b[0m\u001b[0;34m:\u001b[0m\u001b[0;34m\u001b[0m\u001b[0;34m\u001b[0m\u001b[0m\n\u001b[0;32m-> 3678\u001b[0;31m             \u001b[0m_Screen\u001b[0m\u001b[0;34m.\u001b[0m\u001b[0m_root\u001b[0m \u001b[0;34m=\u001b[0m \u001b[0mself\u001b[0m\u001b[0;34m.\u001b[0m\u001b[0m_root\u001b[0m \u001b[0;34m=\u001b[0m \u001b[0m_Root\u001b[0m\u001b[0;34m(\u001b[0m\u001b[0;34m)\u001b[0m\u001b[0;34m\u001b[0m\u001b[0;34m\u001b[0m\u001b[0m\n\u001b[0m\u001b[1;32m   3679\u001b[0m             \u001b[0mself\u001b[0m\u001b[0;34m.\u001b[0m\u001b[0m_root\u001b[0m\u001b[0;34m.\u001b[0m\u001b[0mtitle\u001b[0m\u001b[0;34m(\u001b[0m\u001b[0m_Screen\u001b[0m\u001b[0;34m.\u001b[0m\u001b[0m_title\u001b[0m\u001b[0;34m)\u001b[0m\u001b[0;34m\u001b[0m\u001b[0;34m\u001b[0m\u001b[0m\n\u001b[1;32m   3680\u001b[0m             \u001b[0mself\u001b[0m\u001b[0;34m.\u001b[0m\u001b[0m_root\u001b[0m\u001b[0;34m.\u001b[0m\u001b[0mondestroy\u001b[0m\u001b[0;34m(\u001b[0m\u001b[0mself\u001b[0m\u001b[0;34m.\u001b[0m\u001b[0m_destroy\u001b[0m\u001b[0;34m)\u001b[0m\u001b[0;34m\u001b[0m\u001b[0;34m\u001b[0m\u001b[0m\n",
            "\u001b[0;32m/usr/lib/python3.7/turtle.py\u001b[0m in \u001b[0;36m__init__\u001b[0;34m(self)\u001b[0m\n\u001b[1;32m    432\u001b[0m     \u001b[0;34m\"\"\"Root class for Screen based on Tkinter.\"\"\"\u001b[0m\u001b[0;34m\u001b[0m\u001b[0;34m\u001b[0m\u001b[0m\n\u001b[1;32m    433\u001b[0m     \u001b[0;32mdef\u001b[0m \u001b[0m__init__\u001b[0m\u001b[0;34m(\u001b[0m\u001b[0mself\u001b[0m\u001b[0;34m)\u001b[0m\u001b[0;34m:\u001b[0m\u001b[0;34m\u001b[0m\u001b[0;34m\u001b[0m\u001b[0m\n\u001b[0;32m--> 434\u001b[0;31m         \u001b[0mTK\u001b[0m\u001b[0;34m.\u001b[0m\u001b[0mTk\u001b[0m\u001b[0;34m.\u001b[0m\u001b[0m__init__\u001b[0m\u001b[0;34m(\u001b[0m\u001b[0mself\u001b[0m\u001b[0;34m)\u001b[0m\u001b[0;34m\u001b[0m\u001b[0;34m\u001b[0m\u001b[0m\n\u001b[0m\u001b[1;32m    435\u001b[0m \u001b[0;34m\u001b[0m\u001b[0m\n\u001b[1;32m    436\u001b[0m     \u001b[0;32mdef\u001b[0m \u001b[0msetupcanvas\u001b[0m\u001b[0;34m(\u001b[0m\u001b[0mself\u001b[0m\u001b[0;34m,\u001b[0m \u001b[0mwidth\u001b[0m\u001b[0;34m,\u001b[0m \u001b[0mheight\u001b[0m\u001b[0;34m,\u001b[0m \u001b[0mcwidth\u001b[0m\u001b[0;34m,\u001b[0m \u001b[0mcheight\u001b[0m\u001b[0;34m)\u001b[0m\u001b[0;34m:\u001b[0m\u001b[0;34m\u001b[0m\u001b[0;34m\u001b[0m\u001b[0m\n",
            "\u001b[0;32m/usr/lib/python3.7/tkinter/__init__.py\u001b[0m in \u001b[0;36m__init__\u001b[0;34m(self, screenName, baseName, className, useTk, sync, use)\u001b[0m\n\u001b[1;32m   2021\u001b[0m                 \u001b[0mbaseName\u001b[0m \u001b[0;34m=\u001b[0m \u001b[0mbaseName\u001b[0m \u001b[0;34m+\u001b[0m \u001b[0mext\u001b[0m\u001b[0;34m\u001b[0m\u001b[0;34m\u001b[0m\u001b[0m\n\u001b[1;32m   2022\u001b[0m         \u001b[0minteractive\u001b[0m \u001b[0;34m=\u001b[0m \u001b[0;36m0\u001b[0m\u001b[0;34m\u001b[0m\u001b[0;34m\u001b[0m\u001b[0m\n\u001b[0;32m-> 2023\u001b[0;31m         \u001b[0mself\u001b[0m\u001b[0;34m.\u001b[0m\u001b[0mtk\u001b[0m \u001b[0;34m=\u001b[0m \u001b[0m_tkinter\u001b[0m\u001b[0;34m.\u001b[0m\u001b[0mcreate\u001b[0m\u001b[0;34m(\u001b[0m\u001b[0mscreenName\u001b[0m\u001b[0;34m,\u001b[0m \u001b[0mbaseName\u001b[0m\u001b[0;34m,\u001b[0m \u001b[0mclassName\u001b[0m\u001b[0;34m,\u001b[0m \u001b[0minteractive\u001b[0m\u001b[0;34m,\u001b[0m \u001b[0mwantobjects\u001b[0m\u001b[0;34m,\u001b[0m \u001b[0museTk\u001b[0m\u001b[0;34m,\u001b[0m \u001b[0msync\u001b[0m\u001b[0;34m,\u001b[0m \u001b[0muse\u001b[0m\u001b[0;34m)\u001b[0m\u001b[0;34m\u001b[0m\u001b[0;34m\u001b[0m\u001b[0m\n\u001b[0m\u001b[1;32m   2024\u001b[0m         \u001b[0;32mif\u001b[0m \u001b[0museTk\u001b[0m\u001b[0;34m:\u001b[0m\u001b[0;34m\u001b[0m\u001b[0;34m\u001b[0m\u001b[0m\n\u001b[1;32m   2025\u001b[0m             \u001b[0mself\u001b[0m\u001b[0;34m.\u001b[0m\u001b[0m_loadtk\u001b[0m\u001b[0;34m(\u001b[0m\u001b[0;34m)\u001b[0m\u001b[0;34m\u001b[0m\u001b[0;34m\u001b[0m\u001b[0m\n",
            "\u001b[0;31mTclError\u001b[0m: no display name and no $DISPLAY environment variable"
          ]
        }
      ]
    },
    {
      "cell_type": "markdown",
      "metadata": {
        "id": "1vp1LL0Mzh4R"
      },
      "source": [
        " In[]:"
      ]
    },
    {
      "cell_type": "code",
      "metadata": {
        "id": "eOo7rPXTzmJ2"
      },
      "source": [
        " import turtle\n",
        "turtle.pensize(1)\n",
        " \n",
        "for i in range(36):\n",
        "  for j in range(4):\n",
        "      turtle.forward(70)\n",
        "      turtle.left(90)\n",
        "      turtle.left(10)"
      ],
      "execution_count": null,
      "outputs": []
    },
    {
      "cell_type": "markdown",
      "metadata": {
        "id": "6R79nso0jyTr"
      },
      "source": [
        " Exercise-15: Testing                    \n",
        "a) Write a test-case to check the function even numbers which return True on passing a list of all even numbers"
      ]
    },
    {
      "cell_type": "code",
      "metadata": {
        "colab": {
          "base_uri": "https://localhost:8080/"
        },
        "id": "ZQs5Y_BXkB5y",
        "outputId": "1d75f790-5fb3-454a-9854-b2f21e3b33bf"
      },
      "source": [
        " def evnNo(num):\n",
        "    stat=True\n",
        " \n",
        "    for i in num:\n",
        "        if i%2 ==1:\n",
        "            stat=False\n",
        "            break\n",
        "    return stat\n",
        "        \n",
        "numbers=[]\n",
        "for i in range(0,2):\n",
        "    numbers.append(int(input(\"Enter a value\")))\n",
        "print(evnNo(numbers))"
      ],
      "execution_count": null,
      "outputs": [
        {
          "output_type": "stream",
          "text": [
            "Enter a value5\n",
            "Enter a value5\n",
            "False\n"
          ],
          "name": "stdout"
        }
      ]
    },
    {
      "cell_type": "markdown",
      "metadata": {
        "id": "hRAIwoCQkNsH"
      },
      "source": [
        " Exercise-15: Testing  Method-1#b) Write a test-case to check the function reverse string which returns the reversed string"
      ]
    },
    {
      "cell_type": "code",
      "metadata": {
        "id": "XFW-54wZkUGh"
      },
      "source": [
        " def rev_str(st):\n",
        "    temp=\"\"\n",
        "    for i in range(len(st)-1,-1,-1):\n",
        "        temp+=st[i]\n",
        "    return temp\n",
        " \n",
        "st=\"swarnandhra\"\n",
        "print(\"Given String is: \",st)\n",
        "print(\"Reverse String is: \",st[::-1])\n",
        "print(\"Reverse is: \",rev_str(st))"
      ],
      "execution_count": null,
      "outputs": []
    },
    {
      "cell_type": "markdown",
      "metadata": {
        "id": "wXfru1SPklpJ"
      },
      "source": [
        " Exercise-15: Testing Method-2\n",
        "b) Write a test-case to check the function reverse string which returns the reversed string"
      ]
    },
    {
      "cell_type": "code",
      "metadata": {
        "colab": {
          "base_uri": "https://localhost:8080/"
        },
        "id": "15bR_soNktkf",
        "outputId": "97fa224f-6e0f-41cc-a6c0-79f7b3139d22"
      },
      "source": [
        " def rev_str(st):\n",
        "    return st[::-1]\n",
        " \n",
        "st=\"swarnandhra\"\n",
        "print(\"Given String is: \",st)\n",
        " \n",
        "print(\"Reverse is: \",rev_str(st))"
      ],
      "execution_count": null,
      "outputs": [
        {
          "output_type": "stream",
          "text": [
            "Given String is:  swarnandhra\n",
            "Reverse is:  arhdnanraws\n"
          ],
          "name": "stdout"
        }
      ]
    }
  ]
}